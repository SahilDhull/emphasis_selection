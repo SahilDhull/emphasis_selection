{
  "nbformat": 4,
  "nbformat_minor": 0,
  "metadata": {
    "colab": {
      "name": "Ensemble_new.ipynb",
      "provenance": [],
      "collapsed_sections": [],
      "authorship_tag": "ABX9TyMvmspedrluGrLeqIbhq6qn",
      "include_colab_link": true
    },
    "kernelspec": {
      "name": "python3",
      "display_name": "Python 3"
    }
  },
  "cells": [
    {
      "cell_type": "markdown",
      "metadata": {
        "id": "view-in-github",
        "colab_type": "text"
      },
      "source": [
        "<a href=\"https://colab.research.google.com/github/SahilDhull/emphasis_selection/blob/master/model/Ensemble_new.ipynb\" target=\"_parent\"><img src=\"https://colab.research.google.com/assets/colab-badge.svg\" alt=\"Open In Colab\"/></a>"
      ]
    },
    {
      "cell_type": "code",
      "metadata": {
        "id": "DuwIXmbgrQfl",
        "colab_type": "code",
        "outputId": "ade3d1a2-acb9-45cd-c3e0-8cff7ff97a80",
        "colab": {
          "base_uri": "https://localhost:8080/",
          "height": 168
        }
      },
      "source": [
        "!pip install config"
      ],
      "execution_count": 1,
      "outputs": [
        {
          "output_type": "stream",
          "text": [
            "Collecting config\n",
            "  Downloading https://files.pythonhosted.org/packages/59/6c/4ab0d80b22dca3baab49670b75ae2183b59649e9f27c11018075e509048e/config-0.4.2.tar.gz\n",
            "Building wheels for collected packages: config\n",
            "  Building wheel for config (setup.py) ... \u001b[?25l\u001b[?25hdone\n",
            "  Created wheel for config: filename=config-0.4.2-cp36-none-any.whl size=15135 sha256=cc53904c892e508dc8663bad2bcb4cddd6e7914f2bce6e5f79579baae3f8abd0\n",
            "  Stored in directory: /root/.cache/pip/wheels/51/7d/db/0e38d2ec57843d00cc39f8df3686984ccec689694f7bc78a38\n",
            "Successfully built config\n",
            "Installing collected packages: config\n",
            "Successfully installed config-0.4.2\n"
          ],
          "name": "stdout"
        }
      ]
    },
    {
      "cell_type": "code",
      "metadata": {
        "id": "C_nPBZaZzafU",
        "colab_type": "code",
        "colab": {}
      },
      "source": [
        "import codecs\n",
        "import numpy as np"
      ],
      "execution_count": 0,
      "outputs": []
    },
    {
      "cell_type": "code",
      "metadata": {
        "id": "S14MNefhspfg",
        "colab_type": "code",
        "colab": {}
      },
      "source": [
        "def read_map(file, map):\n",
        "  \n",
        "  with codecs.open(file, 'r', 'utf-8') as f:\n",
        "      lines = f.readlines()\n",
        "\n",
        "  flag = True\n",
        "\n",
        "  d = [[]]\n",
        "\n",
        "  i = 0\n",
        "  \n",
        "  for line in lines:\n",
        "    if not (line.isspace()):\n",
        "      feats = line.strip().split()\n",
        "      d.append(feats)\n",
        "      flag = False\n",
        "    \n",
        "    elif flag == False:\n",
        "      d.pop(0)\n",
        "      map[i] = d\n",
        "      # print(d)\n",
        "      i = i + 1\n",
        "      flag = True\n",
        "      d = [[]]\n",
        "    \n",
        "  # print(i)\n"
      ],
      "execution_count": 0,
      "outputs": []
    },
    {
      "cell_type": "code",
      "metadata": {
        "id": "wUlEjnrV9B5M",
        "colab_type": "code",
        "colab": {}
      },
      "source": [
        "def intersection(lst1, lst2):\n",
        "    lst3 = [value for value in lst1 if value in lst2]\n",
        "    return lst3\n",
        "\n",
        "def match_M(batch_scores_no_padd, batch_labels_no_pad):\n",
        "\n",
        "    top_m = [1, 2, 3, 4]\n",
        "    batch_num_m=[]\n",
        "    batch_score_m=[]\n",
        "    for m in top_m:\n",
        "        intersects_lst = []\n",
        "        # exact_lst = []\n",
        "        score_lst = []\n",
        "        ############################################### computing scores:\n",
        "        for s in batch_scores_no_padd:\n",
        "            if len(s) <=m:\n",
        "                continue\n",
        "            h = m\n",
        "            # if len(s) > h:\n",
        "            #     while (s[np.argsort(s)[-h]] == s[np.argsort(s)[-(h + 1)]] and h < (len(s) - 1)):\n",
        "            #         h += 1\n",
        "\n",
        "            # s = np.asarray(s.cpu())\n",
        "            s = np.asarray(s)\n",
        "            #ind_score = np.argsort(s)[-h:]\n",
        "            ind_score = sorted(range(len(s)), key = lambda sub: s[sub])[-h:]\n",
        "            score_lst.append(ind_score)\n",
        "\n",
        "        ############################################### computing labels:\n",
        "        label_lst = []\n",
        "        for l in batch_labels_no_pad:\n",
        "            if len(l) <=m:\n",
        "                continue\n",
        "            # if it contains several top values with the same amount\n",
        "            h = m\n",
        "            # l = l.cpu()\n",
        "            if len(l) > h:\n",
        "                while (l[np.argsort(l)[-h]] == l[np.argsort(l)[-(h + 1)]] and h < (len(l) - 1)):\n",
        "                    h += 1\n",
        "            l = np.asarray(l)\n",
        "            ind_label = np.argsort(l)[-h:]\n",
        "            label_lst.append(ind_label)\n",
        "\n",
        "        ############################################### :\n",
        "\n",
        "        for i in range(len(score_lst)):\n",
        "            intersect = intersection(score_lst[i], label_lst[i])\n",
        "            intersects_lst.append((len(intersect))/(min(m, len(score_lst[i]))))\n",
        "            # sorted_score_lst = sorted(score_lst[i])\n",
        "            # sorted_label_lst =  sorted(label_lst[i])\n",
        "            # if sorted_score_lst==sorted_label_lst:\n",
        "            #     exact_lst.append(1)\n",
        "            # else:\n",
        "            #     exact_lst.append(0)\n",
        "        batch_num_m.append(len(score_lst))\n",
        "        batch_score_m.append(sum(intersects_lst))\n",
        "    return batch_num_m, batch_score_m\n",
        "\n",
        "def print_to_file(save_path,file_path, var):\n",
        "  with open(save_path + file_path, \"w\") as text_file:\n",
        "    text_file.write(var)"
      ],
      "execution_count": 0,
      "outputs": []
    },
    {
      "cell_type": "code",
      "metadata": {
        "id": "4IzO-2D5rZrB",
        "colab_type": "code",
        "outputId": "3732caee-ba8a-408a-caad-c706ca6194bb",
        "colab": {
          "base_uri": "https://localhost:8080/",
          "height": 34
        }
      },
      "source": [
        "from google.colab import drive\n",
        "drive.mount('/content/drive', force_remount=True)\n",
        "\n",
        "dir_path = 'drive/My Drive/datasets/ensemble/'\n",
        "\n",
        "bert_path = dir_path + 'bert_Model/'\n",
        "bertmaskedLM_path = dir_path + 'bert_maskedLM/'\n",
        "roberta_path = dir_path + 'roberta_large/all/'\n",
        "roberta_high = dir_path + 'roberta_large/top3/'\n",
        "xlnet_path = dir_path + 'xlnet/xlnet_900_40/'\n",
        "xlnet_all = dir_path + 'xlnet/all/'\n",
        "xlnet_high = dir_path + 'xlnet/top/'\n",
        "test_path = dir_path + 'test_mix/'\n",
        "\n",
        "cur_path = test_path\n",
        "save_path = cur_path"
      ],
      "execution_count": 84,
      "outputs": [
        {
          "output_type": "stream",
          "text": [
            "Mounted at /content/drive\n"
          ],
          "name": "stdout"
        }
      ]
    },
    {
      "cell_type": "code",
      "metadata": {
        "id": "4aKZYvlvVsRG",
        "colab_type": "code",
        "outputId": "d6e115ed-1bc0-4b3f-cb48-efb9e01c3a90",
        "colab": {
          "base_uri": "https://localhost:8080/",
          "height": 454
        }
      },
      "source": [
        "val_length = 392\n",
        "test_length = 743\n",
        "\n",
        "n = 13\n",
        "\n",
        "# ind = [\"\" for x in range(n)]\n",
        "val_list = [\"\" for x in range(n)]\n",
        "test_list = [\"\" for x in range(n)]\n",
        "\n",
        "## bert\n",
        "n1 = 2\n",
        "ind1 = [3,4]\n",
        "\n",
        "## roberta\n",
        "n2 = 3\n",
        "# ind2 = [1,2,3,4,5,6,7,8,9]\n",
        "ind2 = [5,7,8]\n",
        "\n",
        "## xlnet\n",
        "n3 = 8\n",
        "# ind3 = [1,2,3,4,7,8,9,10,11]\n",
        "ind3 = [1,2,3,4,5,6,7,8]\n",
        "\n",
        "for i in range(n1):\n",
        "  # ind[i] = \"bert/\" + ind1[i]\n",
        "  val_list[i] = cur_path + 'bert/val' + str(ind1[i]) + '.txt'\n",
        "  test_list[i] = cur_path + 'bert/test' + str(ind1[i]) + '.txt'\n",
        "\n",
        "for i in range(n2):\n",
        "  # ind[n1+i] = \"roberta/\" + ind2[i]\n",
        "  val_list[n1+i] = cur_path + 'roberta/val' + str(ind2[i]) + '.txt'\n",
        "  test_list[n1+i] = cur_path + 'roberta/test' + str(ind2[i]) + '.txt'\n",
        "\n",
        "for i in range(n3):\n",
        "  # ind[n1+n2+i] = str(i+1)\n",
        "  val_list[n1+n2+i] = cur_path + 'xlnet/val' + str(ind3[i]) + '.txt'\n",
        "  test_list[n1+n2+i] = cur_path + 'xlnet/test' + str(ind3[i]) + '.txt'\n",
        "\n",
        "vdict_list = [dict() for x in range(n)]\n",
        "tdict_list = [dict() for x in range(n)]\n",
        "\n",
        "for i in range(n):\n",
        "  print(\"\")\n",
        "  # print(i)\n",
        "  # val_list[i] = cur_path + 'val' + str(index) + '.txt'\n",
        "  # test_list[i] = cur_path + 'test' + str(index) + '.txt'\n",
        "  print(val_list[i])\n",
        "  read_map(val_list[i], vdict_list[i])\n",
        "  read_map(test_list[i], tdict_list[i])"
      ],
      "execution_count": 93,
      "outputs": [
        {
          "output_type": "stream",
          "text": [
            "\n",
            "drive/My Drive/datasets/ensemble/test_mix/bert/val3.txt\n",
            "\n",
            "drive/My Drive/datasets/ensemble/test_mix/bert/val4.txt\n",
            "\n",
            "drive/My Drive/datasets/ensemble/test_mix/roberta/val5.txt\n",
            "\n",
            "drive/My Drive/datasets/ensemble/test_mix/roberta/val7.txt\n",
            "\n",
            "drive/My Drive/datasets/ensemble/test_mix/roberta/val8.txt\n",
            "\n",
            "drive/My Drive/datasets/ensemble/test_mix/xlnet/val1.txt\n",
            "\n",
            "drive/My Drive/datasets/ensemble/test_mix/xlnet/val2.txt\n",
            "\n",
            "drive/My Drive/datasets/ensemble/test_mix/xlnet/val3.txt\n",
            "\n",
            "drive/My Drive/datasets/ensemble/test_mix/xlnet/val4.txt\n",
            "\n",
            "drive/My Drive/datasets/ensemble/test_mix/xlnet/val5.txt\n",
            "\n",
            "drive/My Drive/datasets/ensemble/test_mix/xlnet/val6.txt\n",
            "\n",
            "drive/My Drive/datasets/ensemble/test_mix/xlnet/val7.txt\n",
            "\n",
            "drive/My Drive/datasets/ensemble/test_mix/xlnet/val8.txt\n"
          ],
          "name": "stdout"
        }
      ]
    },
    {
      "cell_type": "code",
      "metadata": {
        "id": "A4Ya9nQa0a1e",
        "colab_type": "code",
        "outputId": "28225bc4-03b5-4ce7-ef2a-b9a2a75a07af",
        "colab": {
          "base_uri": "https://localhost:8080/",
          "height": 50
        }
      },
      "source": [
        "## VALIDATION CHECK\n",
        "\n",
        "num_m = [0, 0, 0, 0]\n",
        "score_m = [0, 0, 0, 0]\n",
        "\n",
        "cnt = 0\n",
        "\n",
        "all_labels = []\n",
        "all_our_labels = []\n",
        "\n",
        "dict_list = vdict_list\n",
        "\n",
        "dummy = dict_list[0]\n",
        "\n",
        "# temp = True\n",
        "\n",
        "for i in range(val_length):\n",
        "  # d1 = vdict_list[1][i]\n",
        "  d1 = dummy[i]\n",
        "  # print(d1)\n",
        "\n",
        "  labels = []\n",
        "  our_labels = []\n",
        "\n",
        "  for j in range(len(d1)):\n",
        "    # print(d1[j])\n",
        "    label = (float)(d1[j][3])\n",
        "    labels.append(label)\n",
        "    ls = [0.0 for x in range(n)]\n",
        "    for k in range(n):\n",
        "      d = dict_list[k][i][j]\n",
        "      # print(d)\n",
        "      ls[k] = (float)(d[2])\n",
        "      # if temp == True:\n",
        "      #   print(d[1])\n",
        "    \n",
        "    # our_label1 = (float)(d1[j][2])\n",
        "    # our_label2 = (float)(d2[j][2])\n",
        "    # ls = [our_label1, our_label2]\n",
        "    # ls.pop(0)\n",
        "    our_label = np.mean(ls)\n",
        "    # if temp == True:\n",
        "    #   print(ls)\n",
        "    #   print(our_label)\n",
        "    #   temp = False\n",
        "    our_labels.append(our_label)\n",
        "    # print(type(d1[j][2]))\n",
        "    # break\n",
        "\n",
        "  # print(labels)\n",
        "  # print(our_labels)\n",
        "\n",
        "  cnt = cnt + 1\n",
        "  all_labels.append(labels)\n",
        "  all_our_labels.append(our_labels)\n",
        "\n",
        "  if cnt%1==0:\n",
        "    # nlabels = np.array(labels).reshape(1,len(labels))\n",
        "    # nour_labels = np.array(our_labels).reshape(1,len(our_labels))\n",
        "\n",
        "    # print(all_labels)\n",
        "\n",
        "    batch_num_m, batch_score_m = match_M(all_our_labels, all_labels)\n",
        "\n",
        "    num_m = [sum(i) for i in zip(num_m, batch_num_m)]\n",
        "    # print(num_m)\n",
        "    score_m = [sum(i) for i in zip(score_m, batch_score_m)]\n",
        "    # print(score_m)\n",
        "\n",
        "    all_labels = []\n",
        "    all_our_labels = []\n",
        "\n",
        "  # print (d1)\n",
        "  # print (d2)\n",
        "  # break\n",
        "\n",
        "m_score = [i/j for i,j in zip(score_m, num_m)]\n",
        "\n",
        "print(m_score)\n",
        "v_score = np.mean(m_score)\n",
        "print(v_score)"
      ],
      "execution_count": 94,
      "outputs": [
        {
          "output_type": "stream",
          "text": [
            "[0.7066326530612245, 0.8103448275862069, 0.8446969696969693, 0.8689393939393939]\n",
            "0.8076534610709487\n"
          ],
          "name": "stdout"
        }
      ]
    },
    {
      "cell_type": "code",
      "metadata": {
        "id": "EF3sFGU38C4z",
        "colab_type": "code",
        "colab": {}
      },
      "source": [
        "## TEST OUTPUT\n",
        "\n",
        "s = \"\"\n",
        "sent_id = \"\"\n",
        "k = 0\n",
        "\n",
        "dict_list = tdict_list\n",
        "dummy = dict_list[0]\n",
        "\n",
        "for i in range(test_length):\n",
        "  d1 = dummy[i]\n",
        "  # d1 = td1[i]\n",
        "  # d2 = td2[i]\n",
        "\n",
        "  our_labels = []\n",
        "\n",
        "  s = s + \"\\n\"\n",
        "\n",
        "  for j in range(len(d1)):\n",
        "    ls = [0.0 for x in range(n)]\n",
        "    for k in range(n):\n",
        "      d = dict_list[k][i][j]\n",
        "      # print(d)\n",
        "      ls[k] = (float)(d[2])\n",
        "    # our_label1 = (float)(d1[j][2])\n",
        "    # our_label2 = (float)(d2[j][2])\n",
        "    # ls = [our_label1, our_label2]\n",
        "    # print(ls)\n",
        "    our_label = np.mean(ls)\n",
        "\n",
        "    s = s + \"{}\\t{}\\t{}\\t\".format(d1[j][0],d1[j][1],our_label) + \"\\n\"\n",
        "  \n",
        "  # s = s + \"\\n\"\n",
        "    \n",
        "\n"
      ],
      "execution_count": 0,
      "outputs": []
    },
    {
      "cell_type": "code",
      "metadata": {
        "id": "vJn_VpEHk1he",
        "colab_type": "code",
        "colab": {}
      },
      "source": [
        "file_name = 'bert_2_roberta_3_xlnet_8.txt'\n",
        "print_to_file(save_path, file_name, s)\n",
        "print_to_file(save_path, 'acc_'+file_name, str(v_score)+\"\\n\"+str(m_score))"
      ],
      "execution_count": 0,
      "outputs": []
    },
    {
      "cell_type": "code",
      "metadata": {
        "id": "V1qBmNPXPF2s",
        "colab_type": "code",
        "colab": {}
      },
      "source": [
        ""
      ],
      "execution_count": 0,
      "outputs": []
    }
  ]
}