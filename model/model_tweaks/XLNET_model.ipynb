{
  "nbformat": 4,
  "nbformat_minor": 0,
  "metadata": {
    "colab": {
      "name": "xlnet_model.ipynb",
      "provenance": [],
      "authorship_tag": "ABX9TyOJEB5+p8ocNl2ChS/cWiLB",
      "include_colab_link": true
    },
    "kernelspec": {
      "name": "python3",
      "display_name": "Python 3"
    },
    "accelerator": "GPU",
    "widgets": {
      "application/vnd.jupyter.widget-state+json": {
        "e7f41b9f4fb3457a8a81b3a63924de79": {
          "model_module": "@jupyter-widgets/controls",
          "model_name": "HBoxModel",
          "state": {
            "_view_name": "HBoxView",
            "_dom_classes": [],
            "_model_name": "HBoxModel",
            "_view_module": "@jupyter-widgets/controls",
            "_model_module_version": "1.5.0",
            "_view_count": null,
            "_view_module_version": "1.5.0",
            "box_style": "",
            "layout": "IPY_MODEL_acd1b8b164af4281b011fa1b46e80cfb",
            "_model_module": "@jupyter-widgets/controls",
            "children": [
              "IPY_MODEL_7e6cb908c36246a9abc7ff10b24aff79",
              "IPY_MODEL_ac8677cbe72c4c8ca57ae08272089056"
            ]
          }
        },
        "acd1b8b164af4281b011fa1b46e80cfb": {
          "model_module": "@jupyter-widgets/base",
          "model_name": "LayoutModel",
          "state": {
            "_view_name": "LayoutView",
            "grid_template_rows": null,
            "right": null,
            "justify_content": null,
            "_view_module": "@jupyter-widgets/base",
            "overflow": null,
            "_model_module_version": "1.2.0",
            "_view_count": null,
            "flex_flow": null,
            "width": null,
            "min_width": null,
            "border": null,
            "align_items": null,
            "bottom": null,
            "_model_module": "@jupyter-widgets/base",
            "top": null,
            "grid_column": null,
            "overflow_y": null,
            "overflow_x": null,
            "grid_auto_flow": null,
            "grid_area": null,
            "grid_template_columns": null,
            "flex": null,
            "_model_name": "LayoutModel",
            "justify_items": null,
            "grid_row": null,
            "max_height": null,
            "align_content": null,
            "visibility": null,
            "align_self": null,
            "height": null,
            "min_height": null,
            "padding": null,
            "grid_auto_rows": null,
            "grid_gap": null,
            "max_width": null,
            "order": null,
            "_view_module_version": "1.2.0",
            "grid_template_areas": null,
            "object_position": null,
            "object_fit": null,
            "grid_auto_columns": null,
            "margin": null,
            "display": null,
            "left": null
          }
        },
        "7e6cb908c36246a9abc7ff10b24aff79": {
          "model_module": "@jupyter-widgets/controls",
          "model_name": "IntProgressModel",
          "state": {
            "_view_name": "ProgressView",
            "style": "IPY_MODEL_a16c58681e8d4290baf76f0b5bb2b824",
            "_dom_classes": [],
            "description": "Downloading",
            "_model_name": "IntProgressModel",
            "bar_style": "success",
            "max": 798011,
            "_view_module": "@jupyter-widgets/controls",
            "_model_module_version": "1.5.0",
            "value": 798011,
            "_view_count": null,
            "_view_module_version": "1.5.0",
            "orientation": "horizontal",
            "min": 0,
            "description_tooltip": null,
            "_model_module": "@jupyter-widgets/controls",
            "layout": "IPY_MODEL_948fe368a296476eb5e7cf9d84a6e288"
          }
        },
        "ac8677cbe72c4c8ca57ae08272089056": {
          "model_module": "@jupyter-widgets/controls",
          "model_name": "HTMLModel",
          "state": {
            "_view_name": "HTMLView",
            "style": "IPY_MODEL_00ab3b28fadb4e229742789db0c6c1a4",
            "_dom_classes": [],
            "description": "",
            "_model_name": "HTMLModel",
            "placeholder": "​",
            "_view_module": "@jupyter-widgets/controls",
            "_model_module_version": "1.5.0",
            "value": "100% 798k/798k [00:00&lt;00:00, 2.39MB/s]",
            "_view_count": null,
            "_view_module_version": "1.5.0",
            "description_tooltip": null,
            "_model_module": "@jupyter-widgets/controls",
            "layout": "IPY_MODEL_39162431f549444eae337e21f6908c28"
          }
        },
        "a16c58681e8d4290baf76f0b5bb2b824": {
          "model_module": "@jupyter-widgets/controls",
          "model_name": "ProgressStyleModel",
          "state": {
            "_view_name": "StyleView",
            "_model_name": "ProgressStyleModel",
            "description_width": "initial",
            "_view_module": "@jupyter-widgets/base",
            "_model_module_version": "1.5.0",
            "_view_count": null,
            "_view_module_version": "1.2.0",
            "bar_color": null,
            "_model_module": "@jupyter-widgets/controls"
          }
        },
        "948fe368a296476eb5e7cf9d84a6e288": {
          "model_module": "@jupyter-widgets/base",
          "model_name": "LayoutModel",
          "state": {
            "_view_name": "LayoutView",
            "grid_template_rows": null,
            "right": null,
            "justify_content": null,
            "_view_module": "@jupyter-widgets/base",
            "overflow": null,
            "_model_module_version": "1.2.0",
            "_view_count": null,
            "flex_flow": null,
            "width": null,
            "min_width": null,
            "border": null,
            "align_items": null,
            "bottom": null,
            "_model_module": "@jupyter-widgets/base",
            "top": null,
            "grid_column": null,
            "overflow_y": null,
            "overflow_x": null,
            "grid_auto_flow": null,
            "grid_area": null,
            "grid_template_columns": null,
            "flex": null,
            "_model_name": "LayoutModel",
            "justify_items": null,
            "grid_row": null,
            "max_height": null,
            "align_content": null,
            "visibility": null,
            "align_self": null,
            "height": null,
            "min_height": null,
            "padding": null,
            "grid_auto_rows": null,
            "grid_gap": null,
            "max_width": null,
            "order": null,
            "_view_module_version": "1.2.0",
            "grid_template_areas": null,
            "object_position": null,
            "object_fit": null,
            "grid_auto_columns": null,
            "margin": null,
            "display": null,
            "left": null
          }
        },
        "00ab3b28fadb4e229742789db0c6c1a4": {
          "model_module": "@jupyter-widgets/controls",
          "model_name": "DescriptionStyleModel",
          "state": {
            "_view_name": "StyleView",
            "_model_name": "DescriptionStyleModel",
            "description_width": "",
            "_view_module": "@jupyter-widgets/base",
            "_model_module_version": "1.5.0",
            "_view_count": null,
            "_view_module_version": "1.2.0",
            "_model_module": "@jupyter-widgets/controls"
          }
        },
        "39162431f549444eae337e21f6908c28": {
          "model_module": "@jupyter-widgets/base",
          "model_name": "LayoutModel",
          "state": {
            "_view_name": "LayoutView",
            "grid_template_rows": null,
            "right": null,
            "justify_content": null,
            "_view_module": "@jupyter-widgets/base",
            "overflow": null,
            "_model_module_version": "1.2.0",
            "_view_count": null,
            "flex_flow": null,
            "width": null,
            "min_width": null,
            "border": null,
            "align_items": null,
            "bottom": null,
            "_model_module": "@jupyter-widgets/base",
            "top": null,
            "grid_column": null,
            "overflow_y": null,
            "overflow_x": null,
            "grid_auto_flow": null,
            "grid_area": null,
            "grid_template_columns": null,
            "flex": null,
            "_model_name": "LayoutModel",
            "justify_items": null,
            "grid_row": null,
            "max_height": null,
            "align_content": null,
            "visibility": null,
            "align_self": null,
            "height": null,
            "min_height": null,
            "padding": null,
            "grid_auto_rows": null,
            "grid_gap": null,
            "max_width": null,
            "order": null,
            "_view_module_version": "1.2.0",
            "grid_template_areas": null,
            "object_position": null,
            "object_fit": null,
            "grid_auto_columns": null,
            "margin": null,
            "display": null,
            "left": null
          }
        }
      }
    }
  },
  "cells": [
    {
      "cell_type": "markdown",
      "metadata": {
        "id": "view-in-github",
        "colab_type": "text"
      },
      "source": [
        "<a href=\"https://colab.research.google.com/github/SahilDhull/emphasis_selection/blob/master/model/xlnet_model.ipynb\" target=\"_parent\"><img src=\"https://colab.research.google.com/assets/colab-badge.svg\" alt=\"Open In Colab\"/></a>"
      ]
    },
    {
      "cell_type": "code",
      "metadata": {
        "id": "1JDifhB6z-Sq",
        "colab_type": "code",
        "outputId": "da6cb937-8f2c-4c88-e445-a63ac70392f6",
        "colab": {
          "base_uri": "https://localhost:8080/",
          "height": 819
        }
      },
      "source": [
        "!pip install transformers\n",
        "!pip install config"
      ],
      "execution_count": 0,
      "outputs": [
        {
          "output_type": "stream",
          "text": [
            "Collecting transformers\n",
            "\u001b[?25l  Downloading https://files.pythonhosted.org/packages/13/33/ffb67897a6985a7b7d8e5e7878c3628678f553634bd3836404fef06ef19b/transformers-2.5.1-py3-none-any.whl (499kB)\n",
            "\r\u001b[K     |▋                               | 10kB 21.1MB/s eta 0:00:01\r\u001b[K     |█▎                              | 20kB 3.0MB/s eta 0:00:01\r\u001b[K     |██                              | 30kB 3.6MB/s eta 0:00:01\r\u001b[K     |██▋                             | 40kB 2.8MB/s eta 0:00:01\r\u001b[K     |███▎                            | 51kB 3.1MB/s eta 0:00:01\r\u001b[K     |████                            | 61kB 3.7MB/s eta 0:00:01\r\u001b[K     |████▋                           | 71kB 4.0MB/s eta 0:00:01\r\u001b[K     |█████▎                          | 81kB 3.8MB/s eta 0:00:01\r\u001b[K     |██████                          | 92kB 4.2MB/s eta 0:00:01\r\u001b[K     |██████▋                         | 102kB 4.5MB/s eta 0:00:01\r\u001b[K     |███████▏                        | 112kB 4.5MB/s eta 0:00:01\r\u001b[K     |███████▉                        | 122kB 4.5MB/s eta 0:00:01\r\u001b[K     |████████▌                       | 133kB 4.5MB/s eta 0:00:01\r\u001b[K     |█████████▏                      | 143kB 4.5MB/s eta 0:00:01\r\u001b[K     |█████████▉                      | 153kB 4.5MB/s eta 0:00:01\r\u001b[K     |██████████▌                     | 163kB 4.5MB/s eta 0:00:01\r\u001b[K     |███████████▏                    | 174kB 4.5MB/s eta 0:00:01\r\u001b[K     |███████████▉                    | 184kB 4.5MB/s eta 0:00:01\r\u001b[K     |████████████▌                   | 194kB 4.5MB/s eta 0:00:01\r\u001b[K     |█████████████▏                  | 204kB 4.5MB/s eta 0:00:01\r\u001b[K     |█████████████▉                  | 215kB 4.5MB/s eta 0:00:01\r\u001b[K     |██████████████▍                 | 225kB 4.5MB/s eta 0:00:01\r\u001b[K     |███████████████                 | 235kB 4.5MB/s eta 0:00:01\r\u001b[K     |███████████████▊                | 245kB 4.5MB/s eta 0:00:01\r\u001b[K     |████████████████▍               | 256kB 4.5MB/s eta 0:00:01\r\u001b[K     |█████████████████               | 266kB 4.5MB/s eta 0:00:01\r\u001b[K     |█████████████████▊              | 276kB 4.5MB/s eta 0:00:01\r\u001b[K     |██████████████████▍             | 286kB 4.5MB/s eta 0:00:01\r\u001b[K     |███████████████████             | 296kB 4.5MB/s eta 0:00:01\r\u001b[K     |███████████████████▊            | 307kB 4.5MB/s eta 0:00:01\r\u001b[K     |████████████████████▍           | 317kB 4.5MB/s eta 0:00:01\r\u001b[K     |█████████████████████           | 327kB 4.5MB/s eta 0:00:01\r\u001b[K     |█████████████████████▋          | 337kB 4.5MB/s eta 0:00:01\r\u001b[K     |██████████████████████▎         | 348kB 4.5MB/s eta 0:00:01\r\u001b[K     |███████████████████████         | 358kB 4.5MB/s eta 0:00:01\r\u001b[K     |███████████████████████▋        | 368kB 4.5MB/s eta 0:00:01\r\u001b[K     |████████████████████████▎       | 378kB 4.5MB/s eta 0:00:01\r\u001b[K     |█████████████████████████       | 389kB 4.5MB/s eta 0:00:01\r\u001b[K     |█████████████████████████▋      | 399kB 4.5MB/s eta 0:00:01\r\u001b[K     |██████████████████████████▎     | 409kB 4.5MB/s eta 0:00:01\r\u001b[K     |███████████████████████████     | 419kB 4.5MB/s eta 0:00:01\r\u001b[K     |███████████████████████████▋    | 430kB 4.5MB/s eta 0:00:01\r\u001b[K     |████████████████████████████▏   | 440kB 4.5MB/s eta 0:00:01\r\u001b[K     |████████████████████████████▉   | 450kB 4.5MB/s eta 0:00:01\r\u001b[K     |█████████████████████████████▌  | 460kB 4.5MB/s eta 0:00:01\r\u001b[K     |██████████████████████████████▏ | 471kB 4.5MB/s eta 0:00:01\r\u001b[K     |██████████████████████████████▉ | 481kB 4.5MB/s eta 0:00:01\r\u001b[K     |███████████████████████████████▌| 491kB 4.5MB/s eta 0:00:01\r\u001b[K     |████████████████████████████████| 501kB 4.5MB/s \n",
            "\u001b[?25hCollecting sentencepiece\n",
            "\u001b[?25l  Downloading https://files.pythonhosted.org/packages/74/f4/2d5214cbf13d06e7cb2c20d84115ca25b53ea76fa1f0ade0e3c9749de214/sentencepiece-0.1.85-cp36-cp36m-manylinux1_x86_64.whl (1.0MB)\n",
            "\r\u001b[K     |▎                               | 10kB 31.1MB/s eta 0:00:01\r\u001b[K     |▋                               | 20kB 22.1MB/s eta 0:00:01\r\u001b[K     |█                               | 30kB 27.4MB/s eta 0:00:01\r\u001b[K     |█▎                              | 40kB 15.5MB/s eta 0:00:01\r\u001b[K     |█▋                              | 51kB 14.7MB/s eta 0:00:01\r\u001b[K     |██                              | 61kB 16.8MB/s eta 0:00:01\r\u001b[K     |██▏                             | 71kB 10.5MB/s eta 0:00:01\r\u001b[K     |██▌                             | 81kB 9.8MB/s eta 0:00:01\r\u001b[K     |██▉                             | 92kB 10.9MB/s eta 0:00:01\r\u001b[K     |███▏                            | 102kB 10.4MB/s eta 0:00:01\r\u001b[K     |███▌                            | 112kB 10.4MB/s eta 0:00:01\r\u001b[K     |███▉                            | 122kB 10.4MB/s eta 0:00:01\r\u001b[K     |████                            | 133kB 10.4MB/s eta 0:00:01\r\u001b[K     |████▍                           | 143kB 10.4MB/s eta 0:00:01\r\u001b[K     |████▊                           | 153kB 10.4MB/s eta 0:00:01\r\u001b[K     |█████                           | 163kB 10.4MB/s eta 0:00:01\r\u001b[K     |█████▍                          | 174kB 10.4MB/s eta 0:00:01\r\u001b[K     |█████▊                          | 184kB 10.4MB/s eta 0:00:01\r\u001b[K     |██████                          | 194kB 10.4MB/s eta 0:00:01\r\u001b[K     |██████▎                         | 204kB 10.4MB/s eta 0:00:01\r\u001b[K     |██████▋                         | 215kB 10.4MB/s eta 0:00:01\r\u001b[K     |███████                         | 225kB 10.4MB/s eta 0:00:01\r\u001b[K     |███████▎                        | 235kB 10.4MB/s eta 0:00:01\r\u001b[K     |███████▋                        | 245kB 10.4MB/s eta 0:00:01\r\u001b[K     |███████▉                        | 256kB 10.4MB/s eta 0:00:01\r\u001b[K     |████████▏                       | 266kB 10.4MB/s eta 0:00:01\r\u001b[K     |████████▌                       | 276kB 10.4MB/s eta 0:00:01\r\u001b[K     |████████▉                       | 286kB 10.4MB/s eta 0:00:01\r\u001b[K     |█████████▏                      | 296kB 10.4MB/s eta 0:00:01\r\u001b[K     |█████████▌                      | 307kB 10.4MB/s eta 0:00:01\r\u001b[K     |█████████▊                      | 317kB 10.4MB/s eta 0:00:01\r\u001b[K     |██████████                      | 327kB 10.4MB/s eta 0:00:01\r\u001b[K     |██████████▍                     | 337kB 10.4MB/s eta 0:00:01\r\u001b[K     |██████████▊                     | 348kB 10.4MB/s eta 0:00:01\r\u001b[K     |███████████                     | 358kB 10.4MB/s eta 0:00:01\r\u001b[K     |███████████▍                    | 368kB 10.4MB/s eta 0:00:01\r\u001b[K     |███████████▋                    | 378kB 10.4MB/s eta 0:00:01\r\u001b[K     |████████████                    | 389kB 10.4MB/s eta 0:00:01\r\u001b[K     |████████████▎                   | 399kB 10.4MB/s eta 0:00:01\r\u001b[K     |████████████▋                   | 409kB 10.4MB/s eta 0:00:01\r\u001b[K     |█████████████                   | 419kB 10.4MB/s eta 0:00:01\r\u001b[K     |█████████████▎                  | 430kB 10.4MB/s eta 0:00:01\r\u001b[K     |█████████████▌                  | 440kB 10.4MB/s eta 0:00:01\r\u001b[K     |█████████████▉                  | 450kB 10.4MB/s eta 0:00:01\r\u001b[K     |██████████████▏                 | 460kB 10.4MB/s eta 0:00:01\r\u001b[K     |██████████████▌                 | 471kB 10.4MB/s eta 0:00:01\r\u001b[K     |██████████████▉                 | 481kB 10.4MB/s eta 0:00:01\r\u001b[K     |███████████████▏                | 491kB 10.4MB/s eta 0:00:01\r\u001b[K     |███████████████▍                | 501kB 10.4MB/s eta 0:00:01\r\u001b[K     |███████████████▊                | 512kB 10.4MB/s eta 0:00:01\r\u001b[K     |████████████████                | 522kB 10.4MB/s eta 0:00:01\r\u001b[K     |████████████████▍               | 532kB 10.4MB/s eta 0:00:01\r\u001b[K     |████████████████▊               | 542kB 10.4MB/s eta 0:00:01\r\u001b[K     |█████████████████               | 552kB 10.4MB/s eta 0:00:01\r\u001b[K     |█████████████████▎              | 563kB 10.4MB/s eta 0:00:01\r\u001b[K     |█████████████████▋              | 573kB 10.4MB/s eta 0:00:01\r\u001b[K     |██████████████████              | 583kB 10.4MB/s eta 0:00:01\r\u001b[K     |██████████████████▎             | 593kB 10.4MB/s eta 0:00:01\r\u001b[K     |██████████████████▋             | 604kB 10.4MB/s eta 0:00:01\r\u001b[K     |███████████████████             | 614kB 10.4MB/s eta 0:00:01\r\u001b[K     |███████████████████▏            | 624kB 10.4MB/s eta 0:00:01\r\u001b[K     |███████████████████▌            | 634kB 10.4MB/s eta 0:00:01\r\u001b[K     |███████████████████▉            | 645kB 10.4MB/s eta 0:00:01\r\u001b[K     |████████████████████▏           | 655kB 10.4MB/s eta 0:00:01\r\u001b[K     |████████████████████▌           | 665kB 10.4MB/s eta 0:00:01\r\u001b[K     |████████████████████▉           | 675kB 10.4MB/s eta 0:00:01\r\u001b[K     |█████████████████████▏          | 686kB 10.4MB/s eta 0:00:01\r\u001b[K     |█████████████████████▍          | 696kB 10.4MB/s eta 0:00:01\r\u001b[K     |█████████████████████▊          | 706kB 10.4MB/s eta 0:00:01\r\u001b[K     |██████████████████████          | 716kB 10.4MB/s eta 0:00:01\r\u001b[K     |██████████████████████▍         | 727kB 10.4MB/s eta 0:00:01\r\u001b[K     |██████████████████████▊         | 737kB 10.4MB/s eta 0:00:01\r\u001b[K     |███████████████████████         | 747kB 10.4MB/s eta 0:00:01\r\u001b[K     |███████████████████████▎        | 757kB 10.4MB/s eta 0:00:01\r\u001b[K     |███████████████████████▋        | 768kB 10.4MB/s eta 0:00:01\r\u001b[K     |████████████████████████        | 778kB 10.4MB/s eta 0:00:01\r\u001b[K     |████████████████████████▎       | 788kB 10.4MB/s eta 0:00:01\r\u001b[K     |████████████████████████▋       | 798kB 10.4MB/s eta 0:00:01\r\u001b[K     |█████████████████████████       | 808kB 10.4MB/s eta 0:00:01\r\u001b[K     |█████████████████████████▏      | 819kB 10.4MB/s eta 0:00:01\r\u001b[K     |█████████████████████████▌      | 829kB 10.4MB/s eta 0:00:01\r\u001b[K     |█████████████████████████▉      | 839kB 10.4MB/s eta 0:00:01\r\u001b[K     |██████████████████████████▏     | 849kB 10.4MB/s eta 0:00:01\r\u001b[K     |██████████████████████████▌     | 860kB 10.4MB/s eta 0:00:01\r\u001b[K     |██████████████████████████▉     | 870kB 10.4MB/s eta 0:00:01\r\u001b[K     |███████████████████████████     | 880kB 10.4MB/s eta 0:00:01\r\u001b[K     |███████████████████████████▍    | 890kB 10.4MB/s eta 0:00:01\r\u001b[K     |███████████████████████████▊    | 901kB 10.4MB/s eta 0:00:01\r\u001b[K     |████████████████████████████    | 911kB 10.4MB/s eta 0:00:01\r\u001b[K     |████████████████████████████▍   | 921kB 10.4MB/s eta 0:00:01\r\u001b[K     |████████████████████████████▊   | 931kB 10.4MB/s eta 0:00:01\r\u001b[K     |█████████████████████████████   | 942kB 10.4MB/s eta 0:00:01\r\u001b[K     |█████████████████████████████▎  | 952kB 10.4MB/s eta 0:00:01\r\u001b[K     |█████████████████████████████▋  | 962kB 10.4MB/s eta 0:00:01\r\u001b[K     |██████████████████████████████  | 972kB 10.4MB/s eta 0:00:01\r\u001b[K     |██████████████████████████████▎ | 983kB 10.4MB/s eta 0:00:01\r\u001b[K     |██████████████████████████████▋ | 993kB 10.4MB/s eta 0:00:01\r\u001b[K     |██████████████████████████████▉ | 1.0MB 10.4MB/s eta 0:00:01\r\u001b[K     |███████████████████████████████▏| 1.0MB 10.4MB/s eta 0:00:01\r\u001b[K     |███████████████████████████████▌| 1.0MB 10.4MB/s eta 0:00:01\r\u001b[K     |███████████████████████████████▉| 1.0MB 10.4MB/s eta 0:00:01\r\u001b[K     |████████████████████████████████| 1.0MB 10.4MB/s \n",
            "\u001b[?25hRequirement already satisfied: numpy in /usr/local/lib/python3.6/dist-packages (from transformers) (1.17.5)\n",
            "Collecting sacremoses\n",
            "\u001b[?25l  Downloading https://files.pythonhosted.org/packages/a6/b4/7a41d630547a4afd58143597d5a49e07bfd4c42914d8335b2a5657efc14b/sacremoses-0.0.38.tar.gz (860kB)\n",
            "\u001b[K     |████████████████████████████████| 870kB 68kB/s \n",
            "\u001b[?25hCollecting tokenizers==0.5.2\n",
            "\u001b[?25l  Downloading https://files.pythonhosted.org/packages/d1/3f/73c881ea4723e43c1e9acf317cf407fab3a278daab3a69c98dcac511c04f/tokenizers-0.5.2-cp36-cp36m-manylinux1_x86_64.whl (3.7MB)\n",
            "\u001b[K     |████████████████████████████████| 3.7MB 9.2MB/s \n",
            "\u001b[?25hRequirement already satisfied: requests in /usr/local/lib/python3.6/dist-packages (from transformers) (2.21.0)\n",
            "Requirement already satisfied: boto3 in /usr/local/lib/python3.6/dist-packages (from transformers) (1.11.15)\n",
            "Requirement already satisfied: tqdm>=4.27 in /usr/local/lib/python3.6/dist-packages (from transformers) (4.28.1)\n",
            "Requirement already satisfied: regex!=2019.12.17 in /usr/local/lib/python3.6/dist-packages (from transformers) (2019.12.20)\n",
            "Requirement already satisfied: filelock in /usr/local/lib/python3.6/dist-packages (from transformers) (3.0.12)\n",
            "Requirement already satisfied: six in /usr/local/lib/python3.6/dist-packages (from sacremoses->transformers) (1.12.0)\n",
            "Requirement already satisfied: click in /usr/local/lib/python3.6/dist-packages (from sacremoses->transformers) (7.0)\n",
            "Requirement already satisfied: joblib in /usr/local/lib/python3.6/dist-packages (from sacremoses->transformers) (0.14.1)\n",
            "Requirement already satisfied: certifi>=2017.4.17 in /usr/local/lib/python3.6/dist-packages (from requests->transformers) (2019.11.28)\n",
            "Requirement already satisfied: urllib3<1.25,>=1.21.1 in /usr/local/lib/python3.6/dist-packages (from requests->transformers) (1.24.3)\n",
            "Requirement already satisfied: idna<2.9,>=2.5 in /usr/local/lib/python3.6/dist-packages (from requests->transformers) (2.8)\n",
            "Requirement already satisfied: chardet<3.1.0,>=3.0.2 in /usr/local/lib/python3.6/dist-packages (from requests->transformers) (3.0.4)\n",
            "Requirement already satisfied: botocore<1.15.0,>=1.14.15 in /usr/local/lib/python3.6/dist-packages (from boto3->transformers) (1.14.15)\n",
            "Requirement already satisfied: jmespath<1.0.0,>=0.7.1 in /usr/local/lib/python3.6/dist-packages (from boto3->transformers) (0.9.4)\n",
            "Requirement already satisfied: s3transfer<0.4.0,>=0.3.0 in /usr/local/lib/python3.6/dist-packages (from boto3->transformers) (0.3.3)\n",
            "Requirement already satisfied: docutils<0.16,>=0.10 in /usr/local/lib/python3.6/dist-packages (from botocore<1.15.0,>=1.14.15->boto3->transformers) (0.15.2)\n",
            "Requirement already satisfied: python-dateutil<3.0.0,>=2.1 in /usr/local/lib/python3.6/dist-packages (from botocore<1.15.0,>=1.14.15->boto3->transformers) (2.6.1)\n",
            "Building wheels for collected packages: sacremoses\n",
            "  Building wheel for sacremoses (setup.py) ... \u001b[?25l\u001b[?25hdone\n",
            "  Created wheel for sacremoses: filename=sacremoses-0.0.38-cp36-none-any.whl size=884628 sha256=4fb104baa126f4f9c40e6f196edeedd627ca7b263ba63fce78034da6e83f7f3c\n",
            "  Stored in directory: /root/.cache/pip/wheels/6d/ec/1a/21b8912e35e02741306f35f66c785f3afe94de754a0eaf1422\n",
            "Successfully built sacremoses\n",
            "Installing collected packages: sentencepiece, sacremoses, tokenizers, transformers\n",
            "Successfully installed sacremoses-0.0.38 sentencepiece-0.1.85 tokenizers-0.5.2 transformers-2.5.1\n",
            "Collecting config\n",
            "  Downloading https://files.pythonhosted.org/packages/59/6c/4ab0d80b22dca3baab49670b75ae2183b59649e9f27c11018075e509048e/config-0.4.2.tar.gz\n",
            "Building wheels for collected packages: config\n",
            "  Building wheel for config (setup.py) ... \u001b[?25l\u001b[?25hdone\n",
            "  Created wheel for config: filename=config-0.4.2-cp36-none-any.whl size=15135 sha256=15e4806655b85d0c1fb7bf552e9d0eec8415e8aaa4bc163540c4fbd31921c367\n",
            "  Stored in directory: /root/.cache/pip/wheels/51/7d/db/0e38d2ec57843d00cc39f8df3686984ccec689694f7bc78a38\n",
            "Successfully built config\n",
            "Installing collected packages: config\n",
            "Successfully installed config-0.4.2\n"
          ],
          "name": "stdout"
        }
      ]
    },
    {
      "cell_type": "code",
      "metadata": {
        "id": "n0DnRwjJ2JKc",
        "colab_type": "code",
        "colab": {}
      },
      "source": [
        "import torch\n",
        "from torch import nn\n",
        "from torch.utils.data import TensorDataset, DataLoader, RandomSampler, SequentialSampler\n",
        "from keras.preprocessing.sequence import pad_sequences\n",
        "from sklearn.model_selection import train_test_split\n",
        "\n",
        "from transformers import XLNetLMHeadModel, XLNetConfig, XLNetTokenizer\n",
        "from transformers import WEIGHTS_NAME, AdamW, get_linear_schedule_with_warmup\n",
        "from transformers import PreTrainedModel, PreTrainedTokenizer , BertPreTrainedModel\n",
        "\n",
        "from tqdm import tqdm, trange\n",
        "import pandas as pd\n",
        "import io\n",
        "import numpy as np\n",
        "import matplotlib.pyplot as plt\n",
        "import codecs\n",
        "from torch.nn.utils.rnn import pack_padded_sequence\n",
        "import os"
      ],
      "execution_count": 0,
      "outputs": []
    },
    {
      "cell_type": "code",
      "metadata": {
        "id": "UhgN7k2I2Ona",
        "colab_type": "code",
        "colab": {}
      },
      "source": [
        "device = torch.device(\"cuda\" if torch.cuda.is_available() else \"cpu\")\n",
        "if(torch.cuda.is_available()):\n",
        "  n_gpu = torch.cuda.device_count()\n",
        "  torch.cuda.get_device_name(0)"
      ],
      "execution_count": 0,
      "outputs": []
    },
    {
      "cell_type": "code",
      "metadata": {
        "id": "lEy6Ncmw2biF",
        "colab_type": "code",
        "outputId": "878a298e-7b2e-4327-ed89-4b66e5d9a07b",
        "colab": {
          "base_uri": "https://localhost:8080/",
          "height": 122
        }
      },
      "source": [
        "from google.colab import drive\n",
        "drive.mount('/content/drive')\n",
        "\n",
        "train_file = 'drive/My Drive/datasets/train.txt'\n",
        "dev_file = 'drive/My Drive/datasets/dev.txt'"
      ],
      "execution_count": 0,
      "outputs": [
        {
          "output_type": "stream",
          "text": [
            "Go to this URL in a browser: https://accounts.google.com/o/oauth2/auth?client_id=947318989803-6bn6qk8qdgf4n4g3pfee6491hc0brc4i.apps.googleusercontent.com&redirect_uri=urn%3aietf%3awg%3aoauth%3a2.0%3aoob&response_type=code&scope=email%20https%3a%2f%2fwww.googleapis.com%2fauth%2fdocs.test%20https%3a%2f%2fwww.googleapis.com%2fauth%2fdrive%20https%3a%2f%2fwww.googleapis.com%2fauth%2fdrive.photos.readonly%20https%3a%2f%2fwww.googleapis.com%2fauth%2fpeopleapi.readonly\n",
            "\n",
            "Enter your authorization code:\n",
            "··········\n",
            "Mounted at /content/drive\n"
          ],
          "name": "stdout"
        }
      ]
    },
    {
      "cell_type": "code",
      "metadata": {
        "id": "_jjXMgph2fVS",
        "colab_type": "code",
        "outputId": "c5bce835-d729-42df-a018-ff5f81cdfc72",
        "colab": {
          "base_uri": "https://localhost:8080/",
          "height": 66,
          "referenced_widgets": [
            "e7f41b9f4fb3457a8a81b3a63924de79",
            "acd1b8b164af4281b011fa1b46e80cfb",
            "7e6cb908c36246a9abc7ff10b24aff79",
            "ac8677cbe72c4c8ca57ae08272089056",
            "a16c58681e8d4290baf76f0b5bb2b824",
            "948fe368a296476eb5e7cf9d84a6e288",
            "00ab3b28fadb4e229742789db0c6c1a4",
            "39162431f549444eae337e21f6908c28"
          ]
        }
      },
      "source": [
        "tokenizer = XLNetTokenizer.from_pretrained('xlnet-large-cased', do_lower_case = False)"
      ],
      "execution_count": 0,
      "outputs": [
        {
          "output_type": "display_data",
          "data": {
            "application/vnd.jupyter.widget-view+json": {
              "model_id": "e7f41b9f4fb3457a8a81b3a63924de79",
              "version_minor": 0,
              "version_major": 2
            },
            "text/plain": [
              "HBox(children=(IntProgress(value=0, description='Downloading', max=798011, style=ProgressStyle(description_wid…"
            ]
          },
          "metadata": {
            "tags": []
          }
        },
        {
          "output_type": "stream",
          "text": [
            "\n"
          ],
          "name": "stdout"
        }
      ]
    },
    {
      "cell_type": "code",
      "metadata": {
        "id": "IV0COmIi22dZ",
        "colab_type": "code",
        "colab": {}
      },
      "source": [
        "def read_token_map(file, word_index = 1,prob_index = 4, caseless = False):\n",
        "  \n",
        "  with codecs.open(file, 'r', 'utf-8') as f:\n",
        "      lines = f.readlines()\n",
        "\n",
        "  tokenized_texts = []\n",
        "  token_map = []\n",
        "  token_labels = []\n",
        "  sent_length = []\n",
        "\n",
        "  xlnet_tokens = []\n",
        "  orig_to_tok_map = []\n",
        "  labels = []\n",
        "\n",
        "  xlnet_tokens.append(\"<s>\")\n",
        "  \n",
        "  for line in lines:\n",
        "    if not (line.isspace()):\n",
        "      feats = line.strip().split()\n",
        "      word = feats[word_index].lower() if caseless else feats[word_index]\n",
        "      label = feats[prob_index].lower() if caseless else feats[prob_index]\n",
        "      labels.append((float)(label))\n",
        "      orig_to_tok_map.append(len(xlnet_tokens))\n",
        "      \n",
        "      if(word == \"n't\"):\n",
        "        word = \"'t\"\n",
        "        xlnet_tokens[-1] = xlnet_tokens[-1] +\"n\"\n",
        "\n",
        "      xlnet_tokens.extend(tokenizer.tokenize(word))\n",
        "\n",
        "    elif len(orig_to_tok_map) > 0:\n",
        "\n",
        "      xlnet_tokens.append(\"</s>\")\n",
        "      tokenized_texts.append(xlnet_tokens)\n",
        "      token_map.append(orig_to_tok_map)\n",
        "      token_labels.append(labels)\n",
        "      sent_length.append(len(labels))\n",
        "      xlnet_tokens = []\n",
        "      orig_to_tok_map = []\n",
        "      labels = []\n",
        "      length = 0\n",
        "      xlnet_tokens.append(\"<s>\")\n",
        "          \n",
        "  if len(orig_to_tok_map) > 0:\n",
        "    xlnet_tokens.append(\"</s>\")\n",
        "    tokenized_texts.append(xlnet_tokens)\n",
        "    token_map.append(orig_to_tok_map)\n",
        "    token_labels.append(labels)\n",
        "    sent_length.append(len(labels))\n",
        "  \n",
        "  return tokenized_texts, token_map, token_labels, sent_length"
      ],
      "execution_count": 0,
      "outputs": []
    },
    {
      "cell_type": "code",
      "metadata": {
        "id": "CwfYrB2F3OdC",
        "colab_type": "code",
        "outputId": "04f77efc-84c9-421d-e9e7-3d05a44d7632",
        "colab": {
          "base_uri": "https://localhost:8080/",
          "height": 207
        }
      },
      "source": [
        "t_tokenized_texts, t_token_map, t_token_label, t_sent_length = read_token_map(train_file)\n",
        "print(t_tokenized_texts[100])\n",
        "print(t_token_map[100])\n",
        "print(t_token_label[100])\n",
        "print(t_sent_length[100])\n",
        "\n",
        "d_tokenized_texts, d_token_map, d_token_label, d_sent_length = read_token_map(dev_file)\n",
        "print(d_tokenized_texts[50])\n",
        "print(d_token_map[50])\n",
        "print(d_token_label[50])\n",
        "print(d_sent_length[50])\n",
        "print(tokenizer.tokenize(\"Hello, my dog is cute\", add_prefix_space = True))\n",
        "print(tokenizer.tokenize(\"won't\"))"
      ],
      "execution_count": 0,
      "outputs": [
        {
          "output_type": "stream",
          "text": [
            "['<s>', '▁Ha', 'ppi', 'ness', '▁consists', '▁in', '▁realizing', '▁it', '▁is', '▁all', '▁a', '▁great', '▁strange', '▁dream', '▁', '.', '</s>']\n",
            "[1, 4, 5, 6, 7, 8, 9, 10, 11, 12, 13, 14]\n",
            "[0.6666666666666666, 0.1111111111111111, 0.0, 0.2222222222222222, 0.0, 0.1111111111111111, 0.1111111111111111, 0.0, 0.2222222222222222, 0.3333333333333333, 0.3333333333333333, 0.1111111111111111]\n",
            "12\n",
            "['<s>', '▁', '\"', '▁Fa', 's', 'cin', 'ating', '▁social', '▁media', '▁tip', '▁or', '▁fact', '▁to', '▁share', '▁', '.', '▁', '\"', '▁', '@', 'S', 'peak', 'er', '▁Name', '</s>']\n",
            "[1, 3, 7, 8, 9, 10, 11, 12, 13, 14, 16, 18, 23]\n",
            "[0.0, 0.5555555555555556, 0.0, 0.1111111111111111, 0.2222222222222222, 0.1111111111111111, 0.1111111111111111, 0.0, 0.2222222222222222, 0.0, 0.0, 0.2222222222222222, 0.2222222222222222]\n",
            "13\n",
            "['▁', 'Hello', ',', '▁my', '▁dog', '▁is', '▁cute']\n",
            "['▁won', \"'\", 't']\n"
          ],
          "name": "stdout"
        }
      ]
    },
    {
      "cell_type": "code",
      "metadata": {
        "id": "zzFmc9053RYM",
        "colab_type": "code",
        "outputId": "da187ede-61a5-417b-a30f-e9881e5edc77",
        "colab": {
          "base_uri": "https://localhost:8080/",
          "height": 374
        }
      },
      "source": [
        "MAX_LEN = 72\n",
        "\n",
        "# Use the XLNET tokenizer to convert the tokens to their index numbers in the XLNET vocabulary\n",
        "t_input_ids = [tokenizer.convert_tokens_to_ids(x) for x in t_tokenized_texts]\n",
        "\n",
        "# Pad our input tokens\n",
        "t_input_ids = pad_sequences(t_input_ids, maxlen=MAX_LEN, dtype=\"long\", truncating=\"post\", padding=\"post\")\n",
        "t_token_map = pad_sequences(t_token_map, maxlen=MAX_LEN, dtype=\"long\", truncating=\"post\", padding=\"post\")\n",
        "t_token_label = pad_sequences(t_token_label, maxlen=MAX_LEN, dtype=\"float\", truncating=\"post\", padding=\"post\")\n",
        "\n",
        "print(t_input_ids[100])\n",
        "print(t_token_map[100])\n",
        "print(t_token_label[100])"
      ],
      "execution_count": 0,
      "outputs": [
        {
          "output_type": "stream",
          "text": [
            "[    1  2541 18458   680  3765    25 15444    36    27    71    24   312\n",
            "  4572  2986    17     9     2     0     0     0     0     0     0     0\n",
            "     0     0     0     0     0     0     0     0     0     0     0     0\n",
            "     0     0     0     0     0     0     0     0     0     0     0     0\n",
            "     0     0     0     0     0     0     0     0     0     0     0     0\n",
            "     0     0     0     0     0     0     0     0     0     0     0     0]\n",
            "[ 1  4  5  6  7  8  9 10 11 12 13 14  0  0  0  0  0  0  0  0  0  0  0  0\n",
            "  0  0  0  0  0  0  0  0  0  0  0  0  0  0  0  0  0  0  0  0  0  0  0  0\n",
            "  0  0  0  0  0  0  0  0  0  0  0  0  0  0  0  0  0  0  0  0  0  0  0  0]\n",
            "[0.66666667 0.11111111 0.         0.22222222 0.         0.11111111\n",
            " 0.11111111 0.         0.22222222 0.33333333 0.33333333 0.11111111\n",
            " 0.         0.         0.         0.         0.         0.\n",
            " 0.         0.         0.         0.         0.         0.\n",
            " 0.         0.         0.         0.         0.         0.\n",
            " 0.         0.         0.         0.         0.         0.\n",
            " 0.         0.         0.         0.         0.         0.\n",
            " 0.         0.         0.         0.         0.         0.\n",
            " 0.         0.         0.         0.         0.         0.\n",
            " 0.         0.         0.         0.         0.         0.\n",
            " 0.         0.         0.         0.         0.         0.\n",
            " 0.         0.         0.         0.         0.         0.        ]\n"
          ],
          "name": "stdout"
        }
      ]
    },
    {
      "cell_type": "code",
      "metadata": {
        "id": "SqqS9HF_3YMP",
        "colab_type": "code",
        "outputId": "f310e5b8-e4fd-4c18-d132-8ef733c7fa1e",
        "colab": {
          "base_uri": "https://localhost:8080/",
          "height": 374
        }
      },
      "source": [
        "d_input_ids = [tokenizer.convert_tokens_to_ids(x) for x in d_tokenized_texts]\n",
        "\n",
        "# Pad our input tokens\n",
        "d_input_ids = pad_sequences(d_input_ids, maxlen=MAX_LEN, dtype=\"long\", truncating=\"post\", padding=\"post\")\n",
        "d_token_map = pad_sequences(d_token_map, maxlen=MAX_LEN, dtype=\"long\", truncating=\"post\", padding=\"post\")\n",
        "d_token_label = pad_sequences(d_token_label, maxlen=MAX_LEN, dtype=\"float\", truncating=\"post\", padding=\"post\")\n",
        "\n",
        "print(d_input_ids[50])\n",
        "print(d_token_map[50])\n",
        "print(d_token_label[50])"
      ],
      "execution_count": 0,
      "outputs": [
        {
          "output_type": "stream",
          "text": [
            "[    1    17    12  3115    23  6650  2076   796   789  5149    49   648\n",
            "    22   763    17     9    17    12    17 13304    83 10254   118  8861\n",
            "     2     0     0     0     0     0     0     0     0     0     0     0\n",
            "     0     0     0     0     0     0     0     0     0     0     0     0\n",
            "     0     0     0     0     0     0     0     0     0     0     0     0\n",
            "     0     0     0     0     0     0     0     0     0     0     0     0]\n",
            "[ 1  3  7  8  9 10 11 12 13 14 16 18 23  0  0  0  0  0  0  0  0  0  0  0\n",
            "  0  0  0  0  0  0  0  0  0  0  0  0  0  0  0  0  0  0  0  0  0  0  0  0\n",
            "  0  0  0  0  0  0  0  0  0  0  0  0  0  0  0  0  0  0  0  0  0  0  0  0]\n",
            "[0.         0.55555556 0.         0.11111111 0.22222222 0.11111111\n",
            " 0.11111111 0.         0.22222222 0.         0.         0.22222222\n",
            " 0.22222222 0.         0.         0.         0.         0.\n",
            " 0.         0.         0.         0.         0.         0.\n",
            " 0.         0.         0.         0.         0.         0.\n",
            " 0.         0.         0.         0.         0.         0.\n",
            " 0.         0.         0.         0.         0.         0.\n",
            " 0.         0.         0.         0.         0.         0.\n",
            " 0.         0.         0.         0.         0.         0.\n",
            " 0.         0.         0.         0.         0.         0.\n",
            " 0.         0.         0.         0.         0.         0.\n",
            " 0.         0.         0.         0.         0.         0.        ]\n"
          ],
          "name": "stdout"
        }
      ]
    },
    {
      "cell_type": "code",
      "metadata": {
        "id": "BGqBjCaH3jMw",
        "colab_type": "code",
        "outputId": "f9938c6f-b74e-4706-dc53-3d241c5b9d21",
        "colab": {
          "base_uri": "https://localhost:8080/",
          "height": 71
        }
      },
      "source": [
        "t_attention_masks = []\n",
        "# Create a mask of 1s for each token followed by 0s for padding\n",
        "for seq in t_input_ids:\n",
        "  seq_mask = [float(i>0) for i in seq]\n",
        "  t_attention_masks.append(seq_mask)\n",
        "print(t_attention_masks[100])\n",
        "\n",
        "d_attention_masks = []\n",
        "# Create a mask of 1s for each token followed by 0s for padding\n",
        "for seq in d_input_ids:\n",
        "  seq_mask = [float(i>0) for i in seq]\n",
        "  d_attention_masks.append(seq_mask)\n",
        "print(d_attention_masks[50])"
      ],
      "execution_count": 0,
      "outputs": [
        {
          "output_type": "stream",
          "text": [
            "[1.0, 1.0, 1.0, 1.0, 1.0, 1.0, 1.0, 1.0, 1.0, 1.0, 1.0, 1.0, 1.0, 1.0, 1.0, 1.0, 1.0, 0.0, 0.0, 0.0, 0.0, 0.0, 0.0, 0.0, 0.0, 0.0, 0.0, 0.0, 0.0, 0.0, 0.0, 0.0, 0.0, 0.0, 0.0, 0.0, 0.0, 0.0, 0.0, 0.0, 0.0, 0.0, 0.0, 0.0, 0.0, 0.0, 0.0, 0.0, 0.0, 0.0, 0.0, 0.0, 0.0, 0.0, 0.0, 0.0, 0.0, 0.0, 0.0, 0.0, 0.0, 0.0, 0.0, 0.0, 0.0, 0.0, 0.0, 0.0, 0.0, 0.0, 0.0, 0.0]\n",
            "[1.0, 1.0, 1.0, 1.0, 1.0, 1.0, 1.0, 1.0, 1.0, 1.0, 1.0, 1.0, 1.0, 1.0, 1.0, 1.0, 1.0, 1.0, 1.0, 1.0, 1.0, 1.0, 1.0, 1.0, 1.0, 0.0, 0.0, 0.0, 0.0, 0.0, 0.0, 0.0, 0.0, 0.0, 0.0, 0.0, 0.0, 0.0, 0.0, 0.0, 0.0, 0.0, 0.0, 0.0, 0.0, 0.0, 0.0, 0.0, 0.0, 0.0, 0.0, 0.0, 0.0, 0.0, 0.0, 0.0, 0.0, 0.0, 0.0, 0.0, 0.0, 0.0, 0.0, 0.0, 0.0, 0.0, 0.0, 0.0, 0.0, 0.0, 0.0, 0.0]\n"
          ],
          "name": "stdout"
        }
      ]
    },
    {
      "cell_type": "code",
      "metadata": {
        "id": "P38dhPe23mS9",
        "colab_type": "code",
        "colab": {}
      },
      "source": [
        "t_input_ids = torch.tensor(t_input_ids)\n",
        "t_token_map = torch.tensor(t_token_map )\n",
        "t_token_label = torch.tensor(t_token_label)\n",
        "t_attention_masks = torch.tensor(t_attention_masks)\n",
        "t_sent_length = torch.tensor(t_sent_length)\n",
        "\n",
        "d_input_ids = torch.tensor(d_input_ids)\n",
        "d_token_map = torch.tensor(d_token_map )\n",
        "d_token_label = torch.tensor(d_token_label)\n",
        "d_attention_masks = torch.tensor(d_attention_masks)\n",
        "d_sent_length = torch.tensor(d_sent_length)\n",
        "\n",
        "# Select a batch size for training. \n",
        "batch_size = 32\n",
        "# print(t_token_labels)\n",
        "# Create an iterator of our data with torch DataLoader \n",
        "train_data = TensorDataset(t_input_ids, t_token_map, t_token_label, t_attention_masks, t_sent_length)\n",
        "train_sampler = RandomSampler(train_data)\n",
        "train_dataloader = DataLoader(train_data, sampler=train_sampler, batch_size=batch_size)\n",
        "validation_data = TensorDataset(d_input_ids, d_token_map, d_token_label, d_attention_masks, d_sent_length)\n",
        "validation_sampler = SequentialSampler(validation_data)\n",
        "validation_dataloader = DataLoader(validation_data, sampler=validation_sampler, batch_size=batch_size)"
      ],
      "execution_count": 0,
      "outputs": []
    },
    {
      "cell_type": "code",
      "metadata": {
        "id": "R9qa-aq73qPx",
        "colab_type": "code",
        "colab": {}
      },
      "source": [
        "def intersection(lst1, lst2):\n",
        "    lst3 = [value for value in lst1 if value in lst2]\n",
        "    return lst3\n",
        "\n",
        "def fix_padding(scores_numpy, label_probs,  mask_numpy):\n",
        "    #if len(scores_numpy) != len(mask_numpy):\n",
        "    #    print(\"Error: len(scores_numpy) != len(mask_numpy)\")\n",
        "    #assert len(scores_numpy) == len(mask_numpy)\n",
        "    #if len(label_probs) != len(mask_numpy):\n",
        "    #    print(\"len(label_probs) != len(mask_numpy)\")\n",
        "    #assert len(label_probs) == len(mask_numpy)\n",
        "\n",
        "    all_scores_no_padd = []\n",
        "    all_labels_no_pad = []\n",
        "    for i in range(len(mask_numpy)):\n",
        "        all_scores_no_padd.append(scores_numpy[i][:int(mask_numpy[i])])\n",
        "        all_labels_no_pad.append(label_probs[i][:int(mask_numpy[i])])\n",
        "\n",
        "    assert len(all_scores_no_padd) == len(all_labels_no_pad)\n",
        "    return all_scores_no_padd, all_labels_no_pad\n",
        "\n",
        "def match_M(batch_scores_no_padd, batch_labels_no_pad):\n",
        "\n",
        "    top_m = [1, 2, 3, 4]\n",
        "    batch_num_m=[]\n",
        "    batch_score_m=[]\n",
        "    for m in top_m:\n",
        "        intersects_lst = []\n",
        "        # exact_lst = []\n",
        "        score_lst = []\n",
        "        ############################################### computing scores:\n",
        "        for s in batch_scores_no_padd:\n",
        "            if len(s) <=m:\n",
        "                continue\n",
        "            h = m\n",
        "            # if len(s) > h:\n",
        "            #     while (s[np.argsort(s)[-h]] == s[np.argsort(s)[-(h + 1)]] and h < (len(s) - 1)):\n",
        "            #         h += 1\n",
        "\n",
        "            # s = np.asarray(s.cpu())\n",
        "            s = np.asarray(s)\n",
        "            #ind_score = np.argsort(s)[-h:]\n",
        "            ind_score = sorted(range(len(s)), key = lambda sub: s[sub])[-h:]\n",
        "            score_lst.append(ind_score)\n",
        "\n",
        "        ############################################### computing labels:\n",
        "        label_lst = []\n",
        "        for l in batch_labels_no_pad:\n",
        "            if len(l) <=m:\n",
        "                continue\n",
        "            # if it contains several top values with the same amount\n",
        "            h = m\n",
        "            # l = l.cpu()\n",
        "            if len(l) > h:\n",
        "                while (l[np.argsort(l)[-h]] == l[np.argsort(l)[-(h + 1)]] and h < (len(l) - 1)):\n",
        "                    h += 1\n",
        "            l = np.asarray(l)\n",
        "            ind_label = np.argsort(l)[-h:]\n",
        "            label_lst.append(ind_label)\n",
        "\n",
        "        ############################################### :\n",
        "\n",
        "        for i in range(len(score_lst)):\n",
        "            intersect = intersection(score_lst[i], label_lst[i])\n",
        "            intersects_lst.append((len(intersect))/(min(m, len(score_lst[i]))))\n",
        "            # sorted_score_lst = sorted(score_lst[i])\n",
        "            # sorted_label_lst =  sorted(label_lst[i])\n",
        "            # if sorted_score_lst==sorted_label_lst:\n",
        "            #     exact_lst.append(1)\n",
        "            # else:\n",
        "            #     exact_lst.append(0)\n",
        "        batch_num_m.append(len(score_lst))\n",
        "        batch_score_m.append(sum(intersects_lst))\n",
        "    return batch_num_m, batch_score_m"
      ],
      "execution_count": 0,
      "outputs": []
    },
    {
      "cell_type": "code",
      "metadata": {
        "id": "8SeNqpxN3ww5",
        "colab_type": "code",
        "colab": {}
      },
      "source": [
        "def validation(model, validation_dataloader):\n",
        "  print(\"\")\n",
        "  print(\"Running Validation...\")\n",
        "\n",
        "  model.eval()\n",
        "  eval_loss, eval_accuracy = 0, 0\n",
        "  nb_eval_steps, nb_eval_examples = 0, 0\n",
        "\n",
        "  num_m = [0, 0, 0, 0]\n",
        "  score_m = [0, 0, 0, 0]\n",
        "\n",
        "  # Evaluate data for one epoch\n",
        "  for batch in validation_dataloader:\n",
        "      \n",
        "      # Add batch to GPU\n",
        "      batch = tuple(t.to(device) for t in batch)\n",
        "      \n",
        "      # Unpack the inputs from our dataloader\n",
        "      v_input_ids = batch[0].to(device)\n",
        "      v_input_mask = batch[3].to(device)\n",
        "      v_token_starts = batch[1].to(device)\n",
        "      v_labels = batch[2].to(device)\n",
        "      v_sent_length = batch[4]\n",
        "            \n",
        "      # Telling the model not to compute or store gradients, saving memory and\n",
        "      # speeding up validation\n",
        "      with torch.no_grad():        \n",
        "          output = model(v_input_ids, v_input_mask, v_labels, v_token_starts, v_sent_length)\n",
        "      \n",
        "      pred_labels = output[1]\n",
        "\n",
        "      pred_labels = pred_labels.detach().cpu().numpy()\n",
        "      v_labels = v_labels.to('cpu').numpy()\n",
        "      \n",
        "      pred_labels, v_labels = fix_padding(pred_labels, v_labels, v_sent_length)\n",
        "\n",
        "      batch_num_m, batch_score_m = match_M(pred_labels, v_labels)\n",
        "      num_m = [sum(i) for i in zip(num_m, batch_num_m)]\n",
        "      score_m = [sum(i) for i in zip(score_m, batch_score_m)]\n",
        "  \n",
        "  m_score = [i/j for i,j in zip(score_m, num_m)]\n",
        "  print(\"Validation Accuracy: \")\n",
        "  print(m_score)\n",
        "  v_score = np.mean(m_score)\n",
        "  print(v_score)\n",
        "\n",
        "  return v_score"
      ],
      "execution_count": 0,
      "outputs": []
    },
    {
      "cell_type": "code",
      "metadata": {
        "id": "NKZSkgju4FO_",
        "colab_type": "code",
        "colab": {}
      },
      "source": [
        "def train(model, train_dataloader, validation_dataloader, optimizer, scheduler, tokenizer, max_epochs, save_path, device, val_freq = 10):\n",
        "  \n",
        "  bestpoint_dir = os.path.join(save_path)\n",
        "  os.makedirs(bestpoint_dir, exist_ok=True)\n",
        "  max_accuracy = 0\n",
        "\n",
        "  for epoch_i in range(0, max_epochs):\n",
        "    print(\"\")\n",
        "    print('======== Epoch {:} / {:} ========'.format(epoch_i + 1, max_epochs))\n",
        "    print('Training...')\n",
        "\n",
        "    # Reset the total loss for this epoch.\n",
        "    total_loss = 0\n",
        "    model.train()\n",
        "\n",
        "    # For each batch of training data...\n",
        "    for step, batch in enumerate(train_dataloader):    \n",
        "\n",
        "        print(\"batch\",step,\"out of\",len(train_dataloader))\n",
        "        b_input_ids = batch[0].to(device)\n",
        "        b_input_mask = batch[3].to(device)\n",
        "        b_token_starts = batch[1].to(device)\n",
        "        b_labels = batch[2].to(device)\n",
        "        b_sent_length = batch[4]\n",
        "\n",
        "        model.zero_grad()   \n",
        "        model.train()     \n",
        "\n",
        "        output = model(b_input_ids, b_input_mask, b_labels, b_token_starts,b_sent_length)\n",
        "        loss = output[0]\n",
        "\n",
        "        total_loss += loss.item()\n",
        "\n",
        "        # Perform a backward pass to calculate the gradients.\n",
        "        loss.backward()\n",
        "        torch.nn.utils.clip_grad_norm_(model.parameters(), 1.0)\n",
        "        optimizer.step()\n",
        "\n",
        "        # Update the learning rate.\n",
        "        scheduler.step()\n",
        "\n",
        "        if step % 10 == 0:\n",
        "          accuracy = validation(model, validation_dataloader)\n",
        "          # if(accuracy > max_accuracy):\n",
        "          #   max_accuracy = accuracy\n",
        "          #   model.save_pretrained(bestpoint_dir)  \n",
        "          #   print(\"Saving model bestpoint to \", bestpoint_dir)\n",
        "\n",
        "    # Calculate the average loss over the training data.\n",
        "    avg_train_loss = total_loss / len(train_dataloader)            \n",
        "    \n",
        "    print(\"\")\n",
        "    print(\"  Average training loss: {0:.2f}\".format(avg_train_loss))\n",
        "  \n",
        "  print(\"\")\n",
        "  print(\"Training complete!\")"
      ],
      "execution_count": 0,
      "outputs": []
    },
    {
      "cell_type": "code",
      "metadata": {
        "id": "XeYLXROK4cWo",
        "colab_type": "code",
        "colab": {}
      },
      "source": [
        "class transformer_model(nn.Module):\n",
        "  def __init__(self, model_name, drop_prob = 0.3):\n",
        "    super(transformer_model, self).__init__()\n",
        "\n",
        "    config = XLNetConfig.from_pretrained(model_name, output_hidden_states=True)\n",
        "    self.xlnet = XLNetLMHeadModel.from_pretrained(model_name, config = config)\n",
        "    \n",
        "    # the commented lines freezes layers of the model\n",
        "    # cnt=0\n",
        "    # for child in xlnet.xlnet.children():\n",
        "    #   cnt = cnt + 1\n",
        "    #   if cnt<=23:\n",
        "    #     for param in child.parameters():\n",
        "    #       param.requires_grad = False\n",
        "\n",
        "    xlnet_dim = 25*1024\n",
        "    hidden_dim1 = 1000\n",
        "    hidden_dim2 = 40\n",
        "    final_size = 1\n",
        "\n",
        "    self.fc1 = nn.Linear(xlnet_dim, hidden_dim1)\n",
        "    self.fc2 = nn.Linear(hidden_dim1, hidden_dim2)\n",
        "    self.fc3 = nn.Linear(hidden_dim2, final_size)\n",
        "    self.dropout = nn.Dropout(p=drop_prob)\n",
        "\n",
        "  def avg(self, a, st, end):\n",
        "    k = a\n",
        "    lis = []\n",
        "    for i in range(st,end):\n",
        "      lis.append(a[i])\n",
        "    x = torch.mean(torch.stack(lis),dim=0)\n",
        "    return x\n",
        "\n",
        "  def save_pretrained(self, output_dir):\n",
        "    self.xlnet.save_pretrained(output_dir)\n",
        "    #please save the fc layers\n",
        "           \n",
        "  def forward(self, xlnet_ids, xlnet_mask, labels = None, xlnet_token_starts = None,lm_lengths = None):\n",
        "    \n",
        "    batch_size = xlnet_ids.size()[0]\n",
        "    pad_size = xlnet_ids.size()[1]\n",
        "    # print(\"batch size\",batch_size,\"\\t\\tpad_size\",pad_size)\n",
        "\n",
        "    output = self.xlnet(xlnet_ids, attention_mask = xlnet_mask)\n",
        "\n",
        "    xlnet_out = output[1][0]\n",
        "    for layers in range(1,25,1):\n",
        "      xlnet_out = torch.cat((xlnet_out, output[1][layers]), dim=2)\n",
        "    \n",
        "    pred_logits = torch.relu(self.fc1(self.dropout(xlnet_out)))\n",
        "    pred_logits = torch.relu(self.fc2(self.dropout(pred_logits)))\n",
        "    pred_logits = torch.sigmoid(self.fc3(self.dropout(pred_logits)))\n",
        "    pred_logits = torch.squeeze(pred_logits,2)\n",
        "\n",
        "    pred_labels = labels.clone()\n",
        "\n",
        "    for b in range(batch_size):\n",
        "      for w in range(pad_size):\n",
        "        if(xlnet_token_starts[b][w]!=0):\n",
        "          if(xlnet_token_starts[b][w]>=pad_size):\n",
        "            print(xlnet_token_starts[b])\n",
        "          else:\n",
        "            st = xlnet_token_starts[b][w]\n",
        "            end = xlnet_token_starts[b][w+1]\n",
        "            if(end==0):\n",
        "              end = st+1\n",
        "              while(xlnet_mask[b][end]!=0):\n",
        "                end = end+1\n",
        "            # pred_labels[b][w] = self.avg(pred_logits[b],st,end)\n",
        "            pred_labels[b][w] = pred_logits[b][xlnet_token_starts[b][w]]\n",
        "\n",
        "    lm_lengths, lm_sort_ind = lm_lengths.sort(dim=0, descending=True)\n",
        "    scores = labels[lm_sort_ind]\n",
        "    targets = pred_labels[lm_sort_ind]\n",
        "    scores = pack_padded_sequence(scores, lm_lengths, batch_first=True).data\n",
        "    targets = pack_padded_sequence(targets, lm_lengths, batch_first=True).data\n",
        "\n",
        "    # print(scores)\n",
        "    # print(targets)\n",
        "\n",
        "    loss_fn = nn.BCELoss().to(device) \n",
        "    loss = loss_fn(targets,scores)\n",
        "\n",
        "    return loss, pred_labels "
      ],
      "execution_count": 0,
      "outputs": []
    },
    {
      "cell_type": "code",
      "metadata": {
        "id": "rsBKA8JD5MNx",
        "colab_type": "code",
        "colab": {}
      },
      "source": [
        "model = transformer_model('xlnet-large-cased').to(device)"
      ],
      "execution_count": 0,
      "outputs": []
    },
    {
      "cell_type": "code",
      "metadata": {
        "id": "vzcilEcQ6int",
        "colab_type": "code",
        "colab": {}
      },
      "source": [
        "optimizer = AdamW(model.parameters(), lr=2e-5, eps = 1e-8)\n",
        "\n",
        "epochs = 30\n",
        "total_steps = len(train_dataloader) * epochs\n",
        "\n",
        "# Create the learning rate scheduler.\n",
        "scheduler = get_linear_schedule_with_warmup(optimizer, \n",
        "                                            num_warmup_steps = 0, # Default value in run_glue.py\n",
        "                                            num_training_steps = total_steps)"
      ],
      "execution_count": 0,
      "outputs": []
    },
    {
      "cell_type": "code",
      "metadata": {
        "id": "fqiN1D_z6ukU",
        "colab_type": "code",
        "outputId": "d3e4a810-ba18-4e66-f119-932a799a5b74",
        "colab": {
          "base_uri": "https://localhost:8080/",
          "height": 85
        }
      },
      "source": [
        "save_path = 'drive/My Drive/datasets/bert_final_model_1/'\n",
        "train(model, train_dataloader, validation_dataloader, optimizer, scheduler, tokenizer, epochs, save_path, device)"
      ],
      "execution_count": 0,
      "outputs": [
        {
          "output_type": "stream",
          "text": [
            "\n",
            "======== Epoch 1 / 30 ========\n",
            "Training...\n",
            "batch 0 out of 86\n"
          ],
          "name": "stdout"
        }
      ]
    },
    {
      "cell_type": "code",
      "metadata": {
        "id": "XgeSTj6K6x2-",
        "colab_type": "code",
        "colab": {}
      },
      "source": [
        ""
      ],
      "execution_count": 0,
      "outputs": []
    }
  ]
}