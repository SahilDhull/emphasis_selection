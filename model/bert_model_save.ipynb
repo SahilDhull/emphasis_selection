{
 "cells": [
  {
   "cell_type": "markdown",
   "metadata": {
    "colab_type": "text",
    "id": "view-in-github"
   },
   "source": [
    "<a href=\"https://colab.research.google.com/github/SahilDhull/emphasis_selection/blob/master/model/bert_model_save.ipynb\" target=\"_parent\"><img src=\"https://colab.research.google.com/assets/colab-badge.svg\" alt=\"Open In Colab\"/></a>"
   ]
  },
  {
   "cell_type": "code",
   "execution_count": 1,
   "metadata": {
    "colab": {
     "base_uri": "https://localhost:8080/",
     "height": 819
    },
    "colab_type": "code",
    "id": "sPnH9VOrfSCu",
    "outputId": "e3904e1c-756d-40b1-8aa9-5ced3b191cf5"
   },
   "outputs": [
    {
     "name": "stdout",
     "output_type": "stream",
     "text": [
      "Collecting transformers\n",
      "\u001b[?25l  Downloading https://files.pythonhosted.org/packages/13/33/ffb67897a6985a7b7d8e5e7878c3628678f553634bd3836404fef06ef19b/transformers-2.5.1-py3-none-any.whl (499kB)\n",
      "\u001b[K     |████████████████████████████████| 501kB 7.4MB/s \n",
      "\u001b[?25hRequirement already satisfied: filelock in /usr/local/lib/python3.6/dist-packages (from transformers) (3.0.12)\n",
      "Requirement already satisfied: tqdm>=4.27 in /usr/local/lib/python3.6/dist-packages (from transformers) (4.28.1)\n",
      "Collecting sentencepiece\n",
      "\u001b[?25l  Downloading https://files.pythonhosted.org/packages/74/f4/2d5214cbf13d06e7cb2c20d84115ca25b53ea76fa1f0ade0e3c9749de214/sentencepiece-0.1.85-cp36-cp36m-manylinux1_x86_64.whl (1.0MB)\n",
      "\u001b[K     |████████████████████████████████| 1.0MB 46.7MB/s \n",
      "\u001b[?25hRequirement already satisfied: numpy in /usr/local/lib/python3.6/dist-packages (from transformers) (1.17.5)\n",
      "Requirement already satisfied: requests in /usr/local/lib/python3.6/dist-packages (from transformers) (2.21.0)\n",
      "Requirement already satisfied: boto3 in /usr/local/lib/python3.6/dist-packages (from transformers) (1.11.15)\n",
      "Collecting sacremoses\n",
      "\u001b[?25l  Downloading https://files.pythonhosted.org/packages/a6/b4/7a41d630547a4afd58143597d5a49e07bfd4c42914d8335b2a5657efc14b/sacremoses-0.0.38.tar.gz (860kB)\n",
      "\u001b[K     |████████████████████████████████| 870kB 25.5MB/s \n",
      "\u001b[?25hCollecting tokenizers==0.5.2\n",
      "\u001b[?25l  Downloading https://files.pythonhosted.org/packages/d1/3f/73c881ea4723e43c1e9acf317cf407fab3a278daab3a69c98dcac511c04f/tokenizers-0.5.2-cp36-cp36m-manylinux1_x86_64.whl (3.7MB)\n",
      "\u001b[K     |████████████████████████████████| 3.7MB 25.6MB/s \n",
      "\u001b[?25hRequirement already satisfied: regex!=2019.12.17 in /usr/local/lib/python3.6/dist-packages (from transformers) (2019.12.20)\n",
      "Requirement already satisfied: certifi>=2017.4.17 in /usr/local/lib/python3.6/dist-packages (from requests->transformers) (2019.11.28)\n",
      "Requirement already satisfied: urllib3<1.25,>=1.21.1 in /usr/local/lib/python3.6/dist-packages (from requests->transformers) (1.24.3)\n",
      "Requirement already satisfied: idna<2.9,>=2.5 in /usr/local/lib/python3.6/dist-packages (from requests->transformers) (2.8)\n",
      "Requirement already satisfied: chardet<3.1.0,>=3.0.2 in /usr/local/lib/python3.6/dist-packages (from requests->transformers) (3.0.4)\n",
      "Requirement already satisfied: botocore<1.15.0,>=1.14.15 in /usr/local/lib/python3.6/dist-packages (from boto3->transformers) (1.14.15)\n",
      "Requirement already satisfied: jmespath<1.0.0,>=0.7.1 in /usr/local/lib/python3.6/dist-packages (from boto3->transformers) (0.9.4)\n",
      "Requirement already satisfied: s3transfer<0.4.0,>=0.3.0 in /usr/local/lib/python3.6/dist-packages (from boto3->transformers) (0.3.3)\n",
      "Requirement already satisfied: six in /usr/local/lib/python3.6/dist-packages (from sacremoses->transformers) (1.12.0)\n",
      "Requirement already satisfied: click in /usr/local/lib/python3.6/dist-packages (from sacremoses->transformers) (7.0)\n",
      "Requirement already satisfied: joblib in /usr/local/lib/python3.6/dist-packages (from sacremoses->transformers) (0.14.1)\n",
      "Requirement already satisfied: python-dateutil<3.0.0,>=2.1 in /usr/local/lib/python3.6/dist-packages (from botocore<1.15.0,>=1.14.15->boto3->transformers) (2.6.1)\n",
      "Requirement already satisfied: docutils<0.16,>=0.10 in /usr/local/lib/python3.6/dist-packages (from botocore<1.15.0,>=1.14.15->boto3->transformers) (0.15.2)\n",
      "Building wheels for collected packages: sacremoses\n",
      "  Building wheel for sacremoses (setup.py) ... \u001b[?25l\u001b[?25hdone\n",
      "  Created wheel for sacremoses: filename=sacremoses-0.0.38-cp36-none-any.whl size=884628 sha256=f7fea1453315d0e1b11346a4c15ad220a6c854c66c8280b4d5dcd0071d35acba\n",
      "  Stored in directory: /root/.cache/pip/wheels/6d/ec/1a/21b8912e35e02741306f35f66c785f3afe94de754a0eaf1422\n",
      "Successfully built sacremoses\n",
      "Installing collected packages: sentencepiece, sacremoses, tokenizers, transformers\n",
      "Successfully installed sacremoses-0.0.38 sentencepiece-0.1.85 tokenizers-0.5.2 transformers-2.5.1\n",
      "Collecting config\n",
      "  Downloading https://files.pythonhosted.org/packages/59/6c/4ab0d80b22dca3baab49670b75ae2183b59649e9f27c11018075e509048e/config-0.4.2.tar.gz\n",
      "Building wheels for collected packages: config\n",
      "  Building wheel for config (setup.py) ... \u001b[?25l\u001b[?25hdone\n",
      "  Created wheel for config: filename=config-0.4.2-cp36-none-any.whl size=15135 sha256=3d7d7c829b21615139170d9489e665298dd0450365f242d93c3b57dbdd445444\n",
      "  Stored in directory: /root/.cache/pip/wheels/51/7d/db/0e38d2ec57843d00cc39f8df3686984ccec689694f7bc78a38\n",
      "Successfully built config\n",
      "Installing collected packages: config\n",
      "Successfully installed config-0.4.2\n"
     ]
    }
   ],
   "source": [
    "!pip install transformers\n",
    "!pip install config"
   ]
  },
  {
   "cell_type": "code",
   "execution_count": 2,
   "metadata": {
    "colab": {
     "base_uri": "https://localhost:8080/",
     "height": 80
    },
    "colab_type": "code",
    "id": "RUJeeb2ifU7X",
    "outputId": "4d688474-c5a8-41eb-8a19-26eacbdab1eb"
   },
   "outputs": [
    {
     "name": "stderr",
     "output_type": "stream",
     "text": [
      "Using TensorFlow backend.\n"
     ]
    },
    {
     "data": {
      "text/html": [
       "<p style=\"color: red;\">\n",
       "The default version of TensorFlow in Colab will soon switch to TensorFlow 2.x.<br>\n",
       "We recommend you <a href=\"https://www.tensorflow.org/guide/migrate\" target=\"_blank\">upgrade</a> now \n",
       "or ensure your notebook will continue to use TensorFlow 1.x via the <code>%tensorflow_version 1.x</code> magic:\n",
       "<a href=\"https://colab.research.google.com/notebooks/tensorflow_version.ipynb\" target=\"_blank\">more info</a>.</p>\n"
      ],
      "text/plain": [
       "<IPython.core.display.HTML object>"
      ]
     },
     "metadata": {
      "tags": []
     },
     "output_type": "display_data"
    }
   ],
   "source": [
    "import torch\n",
    "from torch import nn\n",
    "from torch.utils.data import TensorDataset, DataLoader, RandomSampler, SequentialSampler\n",
    "from keras.preprocessing.sequence import pad_sequences\n",
    "from sklearn.model_selection import train_test_split\n",
    "\n",
    "from transformers import BertTokenizer, BertConfig , BertForMaskedLM , BertModel\n",
    "# from transformers import GPT2Config, GPT2LMHeadModel, GPT2Tokenizer\n",
    "# from transformers import RobertaConfig, RobertaForMaskedLM, RobertaTokenizer\n",
    "# from transformers import XLNetConfig, XLNetModel , XLNetTokenizer\n",
    "from transformers import WEIGHTS_NAME, AdamW, get_linear_schedule_with_warmup\n",
    "from transformers import PreTrainedModel, PreTrainedTokenizer , BertPreTrainedModel\n",
    "\n",
    "from tqdm import tqdm, trange\n",
    "import pandas as pd\n",
    "import io\n",
    "import numpy as np\n",
    "import matplotlib.pyplot as plt\n",
    "import codecs\n",
    "from torch.nn.utils.rnn import pack_padded_sequence\n",
    "import os"
   ]
  },
  {
   "cell_type": "code",
   "execution_count": 3,
   "metadata": {
    "colab": {
     "base_uri": "https://localhost:8080/",
     "height": 34
    },
    "colab_type": "code",
    "id": "HQVuhZmdfXji",
    "outputId": "2acd8136-97a8-4daa-f967-0fc22f5ccdc7"
   },
   "outputs": [
    {
     "data": {
      "text/plain": [
       "'Tesla T4'"
      ]
     },
     "execution_count": 3,
     "metadata": {
      "tags": []
     },
     "output_type": "execute_result"
    }
   ],
   "source": [
    "device = torch.device(\"cuda\" if torch.cuda.is_available() else \"cpu\")\n",
    "n_gpu = torch.cuda.device_count()\n",
    "torch.cuda.get_device_name(0)"
   ]
  },
  {
   "cell_type": "code",
   "execution_count": 0,
   "metadata": {
    "colab": {},
    "colab_type": "code",
    "id": "Fj9BBaiMfbcF"
   },
   "outputs": [],
   "source": [
    "from google.colab import drive\n",
    "drive.mount('/content/drive')\n",
    "\n",
    "train_file = 'drive/My Drive/datasets/train.txt'\n",
    "dev_file = 'drive/My Drive/datasets/dev.txt'\n",
    "\n",
    "quotes_file = 'drive/My Drive/datasets/all_quotes.txt'"
   ]
  },
  {
   "cell_type": "code",
   "execution_count": 0,
   "metadata": {
    "colab": {},
    "colab_type": "code",
    "id": "WPNIJVncgI4R"
   },
   "outputs": [],
   "source": [
    "tokenizer = BertTokenizer.from_pretrained('bert-large-cased', do_lower_case = False)"
   ]
  },
  {
   "cell_type": "code",
   "execution_count": 0,
   "metadata": {
    "colab": {},
    "colab_type": "code",
    "id": "tyhUJlsjlKAU"
   },
   "outputs": [],
   "source": [
    "def read_token_map(file,word_index = 1,prob_index = 4, caseless = False):\n",
    "  \n",
    "  with codecs.open(file, 'r', 'utf-8') as f:\n",
    "      lines = f.readlines()\n",
    "\n",
    "  tokenized_texts = []\n",
    "  token_map = []\n",
    "  token_labels = []\n",
    "  sent_length = []\n",
    "\n",
    "  bert_tokens = []\n",
    "  orig_to_tok_map = []\n",
    "  labels = []\n",
    "\n",
    "  bert_tokens.append(\"[CLS]\")\n",
    "  \n",
    "  for line in lines:\n",
    "    if not (line.isspace()):\n",
    "      feats = line.strip().split()\n",
    "      word = feats[word_index].lower() if caseless else feats[word_index]\n",
    "      label = feats[prob_index].lower() if caseless else feats[prob_index]\n",
    "      labels.append((float)(label))\n",
    "      orig_to_tok_map.append(len(bert_tokens))\n",
    "      \n",
    "      if(word == \"n't\"):\n",
    "        word = \"'t\"\n",
    "        if(bert_tokens[-1] != \"won\"):\n",
    "          bert_tokens[-1] = bert_tokens[-1] +\"n\"\n",
    "      if(word == \"wo\"):\n",
    "        word = \"won\"\n",
    "\n",
    "      bert_tokens.extend(tokenizer.tokenize(word))\n",
    "     \n",
    "    elif len(orig_to_tok_map) > 0:\n",
    "      bert_tokens.append(\"[SEP]\")\n",
    "      tokenized_texts.append(bert_tokens)\n",
    "      token_map.append(orig_to_tok_map)\n",
    "      token_labels.append(labels)\n",
    "      sent_length.append(len(labels))\n",
    "      bert_tokens = []\n",
    "      orig_to_tok_map = []\n",
    "      labels = []\n",
    "      length = 0\n",
    "      bert_tokens.append(\"[CLS]\")\n",
    "          \n",
    "  if len(orig_to_tok_map) > 0:\n",
    "    bert_tokens.append(\"[SEP]\")\n",
    "    tokenized_texts.append(bert_tokens)\n",
    "    token_map.append(orig_to_tok_map)\n",
    "    token_labels.append(labels)\n",
    "    sent_length.append(len(labels))\n",
    "  \n",
    "  return tokenized_texts, token_map, token_labels, sent_length"
   ]
  },
  {
   "cell_type": "code",
   "execution_count": 0,
   "metadata": {
    "colab": {},
    "colab_type": "code",
    "id": "aFPE6ZIIl-Z_"
   },
   "outputs": [],
   "source": [
    "t_tokenized_texts, t_token_map, t_token_label, t_sent_length = read_token_map(train_file)\n",
    "print(t_tokenized_texts[100])\n",
    "print(t_token_map[100])\n",
    "print(t_token_label[100])\n",
    "print(t_sent_length[100])\n",
    "\n",
    "d_tokenized_texts, d_token_map, d_token_label, d_sent_length = read_token_map(dev_file)\n",
    "print(d_tokenized_texts[50])\n",
    "print(d_token_map[50])\n",
    "print(d_token_label[50])\n",
    "print(d_sent_length[50])"
   ]
  },
  {
   "cell_type": "code",
   "execution_count": 0,
   "metadata": {
    "colab": {},
    "colab_type": "code",
    "id": "6HExaYvEmDIS"
   },
   "outputs": [],
   "source": [
    "MAX_LEN = 72\n",
    "\n",
    "# Use the BERT tokenizer to convert the tokens to their index numbers in the BERT vocabulary\n",
    "t_input_ids = [tokenizer.convert_tokens_to_ids(x) for x in t_tokenized_texts]\n",
    "\n",
    "# Pad our input tokens\n",
    "t_input_ids = pad_sequences(t_input_ids, maxlen=MAX_LEN, dtype=\"long\", truncating=\"post\", padding=\"post\")\n",
    "t_token_map = pad_sequences(t_token_map, maxlen=MAX_LEN, dtype=\"long\", truncating=\"post\", padding=\"post\")\n",
    "t_token_label = pad_sequences(t_token_label, maxlen=MAX_LEN, dtype=\"float\", truncating=\"post\", padding=\"post\")\n",
    "\n",
    "print(t_input_ids[100])\n",
    "print(t_token_map[100])\n",
    "print(t_token_label[100])"
   ]
  },
  {
   "cell_type": "code",
   "execution_count": 0,
   "metadata": {
    "colab": {},
    "colab_type": "code",
    "id": "jusk7aXcmHIH"
   },
   "outputs": [],
   "source": [
    "d_input_ids = [tokenizer.convert_tokens_to_ids(x) for x in d_tokenized_texts]\n",
    "\n",
    "# Pad our input tokens\n",
    "d_input_ids = pad_sequences(d_input_ids, maxlen=MAX_LEN, dtype=\"long\", truncating=\"post\", padding=\"post\")\n",
    "d_token_map = pad_sequences(d_token_map, maxlen=MAX_LEN, dtype=\"long\", truncating=\"post\", padding=\"post\")\n",
    "d_token_label = pad_sequences(d_token_label, maxlen=MAX_LEN, dtype=\"float\", truncating=\"post\", padding=\"post\")\n",
    "\n",
    "print(d_input_ids[50])\n",
    "print(d_token_map[50])\n",
    "print(d_token_label[50])"
   ]
  },
  {
   "cell_type": "code",
   "execution_count": 0,
   "metadata": {
    "colab": {},
    "colab_type": "code",
    "id": "iCgv6Er9mKTn"
   },
   "outputs": [],
   "source": [
    "t_attention_masks = []\n",
    "# Create a mask of 1s for each token followed by 0s for padding\n",
    "for seq in t_input_ids:\n",
    "  seq_mask = [float(i>0) for i in seq]\n",
    "  t_attention_masks.append(seq_mask)\n",
    "print(t_attention_masks[100])\n",
    "\n",
    "d_attention_masks = []\n",
    "# Create a mask of 1s for each token followed by 0s for padding\n",
    "for seq in d_input_ids:\n",
    "  seq_mask = [float(i>0) for i in seq]\n",
    "  d_attention_masks.append(seq_mask)\n",
    "print(d_attention_masks[50])"
   ]
  },
  {
   "cell_type": "code",
   "execution_count": 0,
   "metadata": {
    "colab": {},
    "colab_type": "code",
    "id": "Nzs4KzUCmNGZ"
   },
   "outputs": [],
   "source": [
    "t_input_ids = torch.tensor(t_input_ids)\n",
    "t_token_map = torch.tensor(t_token_map )\n",
    "t_token_label = torch.tensor(t_token_label)\n",
    "t_attention_masks = torch.tensor(t_attention_masks)\n",
    "t_sent_length = torch.tensor(t_sent_length)\n",
    "\n",
    "d_input_ids = torch.tensor(d_input_ids)\n",
    "d_token_map = torch.tensor(d_token_map )\n",
    "d_token_label = torch.tensor(d_token_label)\n",
    "d_attention_masks = torch.tensor(d_attention_masks)\n",
    "d_sent_length = torch.tensor(d_sent_length)\n",
    "\n",
    "# Select a batch size for training. \n",
    "batch_size = 32\n",
    "# print(t_token_labels)\n",
    "# Create an iterator of our data with torch DataLoader \n",
    "train_data = TensorDataset(t_input_ids, t_token_map, t_token_label, t_attention_masks, t_sent_length)\n",
    "train_sampler = RandomSampler(train_data)\n",
    "train_dataloader = DataLoader(train_data, sampler=train_sampler, batch_size=batch_size)\n",
    "validation_data = TensorDataset(d_input_ids, d_token_map, d_token_label, d_attention_masks, d_sent_length)\n",
    "validation_sampler = SequentialSampler(validation_data)\n",
    "validation_dataloader = DataLoader(validation_data, sampler=validation_sampler, batch_size=batch_size)"
   ]
  },
  {
   "cell_type": "code",
   "execution_count": 0,
   "metadata": {
    "colab": {},
    "colab_type": "code",
    "id": "sz4BGjpUsDSK"
   },
   "outputs": [],
   "source": [
    "def intersection(lst1, lst2):\n",
    "    lst3 = [value for value in lst1 if value in lst2]\n",
    "    return lst3\n",
    "\n",
    "def fix_padding(scores_numpy, label_probs,  mask_numpy):\n",
    "    #if len(scores_numpy) != len(mask_numpy):\n",
    "    #    print(\"Error: len(scores_numpy) != len(mask_numpy)\")\n",
    "    #assert len(scores_numpy) == len(mask_numpy)\n",
    "    #if len(label_probs) != len(mask_numpy):\n",
    "    #    print(\"len(label_probs) != len(mask_numpy)\")\n",
    "    #assert len(label_probs) == len(mask_numpy)\n",
    "\n",
    "    all_scores_no_padd = []\n",
    "    all_labels_no_pad = []\n",
    "    for i in range(len(mask_numpy)):\n",
    "        all_scores_no_padd.append(scores_numpy[i][:int(mask_numpy[i])])\n",
    "        all_labels_no_pad.append(label_probs[i][:int(mask_numpy[i])])\n",
    "\n",
    "    assert len(all_scores_no_padd) == len(all_labels_no_pad)\n",
    "    return all_scores_no_padd, all_labels_no_pad\n",
    "\n",
    "def match_M(batch_scores_no_padd, batch_labels_no_pad):\n",
    "\n",
    "    top_m = [1, 2, 3, 4]\n",
    "    batch_num_m=[]\n",
    "    batch_score_m=[]\n",
    "    for m in top_m:\n",
    "        intersects_lst = []\n",
    "        # exact_lst = []\n",
    "        score_lst = []\n",
    "        ############################################### computing scores:\n",
    "        for s in batch_scores_no_padd:\n",
    "            if len(s) <=m:\n",
    "                continue\n",
    "            h = m\n",
    "            # if len(s) > h:\n",
    "            #     while (s[np.argsort(s)[-h]] == s[np.argsort(s)[-(h + 1)]] and h < (len(s) - 1)):\n",
    "            #         h += 1\n",
    "\n",
    "            # s = np.asarray(s.cpu())\n",
    "            s = np.asarray(s)\n",
    "            #ind_score = np.argsort(s)[-h:]\n",
    "            ind_score = sorted(range(len(s)), key = lambda sub: s[sub])[-h:]\n",
    "            score_lst.append(ind_score)\n",
    "\n",
    "        ############################################### computing labels:\n",
    "        label_lst = []\n",
    "        for l in batch_labels_no_pad:\n",
    "            if len(l) <=m:\n",
    "                continue\n",
    "            # if it contains several top values with the same amount\n",
    "            h = m\n",
    "            # l = l.cpu()\n",
    "            if len(l) > h:\n",
    "                while (l[np.argsort(l)[-h]] == l[np.argsort(l)[-(h + 1)]] and h < (len(l) - 1)):\n",
    "                    h += 1\n",
    "            l = np.asarray(l)\n",
    "            ind_label = np.argsort(l)[-h:]\n",
    "            label_lst.append(ind_label)\n",
    "\n",
    "        ############################################### :\n",
    "\n",
    "        for i in range(len(score_lst)):\n",
    "            intersect = intersection(score_lst[i], label_lst[i])\n",
    "            intersects_lst.append((len(intersect))/(min(m, len(score_lst[i]))))\n",
    "            # sorted_score_lst = sorted(score_lst[i])\n",
    "            # sorted_label_lst =  sorted(label_lst[i])\n",
    "            # if sorted_score_lst==sorted_label_lst:\n",
    "            #     exact_lst.append(1)\n",
    "            # else:\n",
    "            #     exact_lst.append(0)\n",
    "        batch_num_m.append(len(score_lst))\n",
    "        batch_score_m.append(sum(intersects_lst))\n",
    "    return batch_num_m, batch_score_m"
   ]
  },
  {
   "cell_type": "code",
   "execution_count": 0,
   "metadata": {
    "colab": {},
    "colab_type": "code",
    "id": "Waw_HPZ3sJza"
   },
   "outputs": [],
   "source": [
    "def validation(model, validation_dataloader):\n",
    "  print(\"\")\n",
    "  print(\"Running Validation...\")\n",
    "\n",
    "  model.eval()\n",
    "  eval_loss, eval_accuracy = 0, 0\n",
    "  nb_eval_steps, nb_eval_examples = 0, 0\n",
    "\n",
    "  num_m = [0, 0, 0, 0]\n",
    "  score_m = [0, 0, 0, 0]\n",
    "\n",
    "  # Evaluate data for one epoch\n",
    "  for batch in validation_dataloader:\n",
    "      \n",
    "      # Add batch to GPU\n",
    "      batch = tuple(t.to(device) for t in batch)\n",
    "      \n",
    "      # Unpack the inputs from our dataloader\n",
    "      v_input_ids = batch[0].to(device)\n",
    "      v_input_mask = batch[3].to(device)\n",
    "      v_token_starts = batch[1].to(device)\n",
    "      v_labels = batch[2].to(device)\n",
    "      v_sent_length = batch[4]\n",
    "            \n",
    "      # Telling the model not to compute or store gradients, saving memory and\n",
    "      # speeding up validation\n",
    "      with torch.no_grad():        \n",
    "          output = model(v_input_ids, v_input_mask, v_labels, v_token_starts, v_sent_length)\n",
    "      \n",
    "      pred_labels = output[1]\n",
    "\n",
    "      pred_labels = pred_labels.detach().cpu().numpy()\n",
    "      v_labels = v_labels.to('cpu').numpy()\n",
    "      \n",
    "      pred_labels, v_labels = fix_padding(pred_labels, v_labels, v_sent_length)\n",
    "\n",
    "      batch_num_m, batch_score_m = match_M(pred_labels, v_labels)\n",
    "      num_m = [sum(i) for i in zip(num_m, batch_num_m)]\n",
    "      score_m = [sum(i) for i in zip(score_m, batch_score_m)]\n",
    "  \n",
    "  m_score = [i/j for i,j in zip(score_m, num_m)]\n",
    "  print(\"Validation Accuracy: \")\n",
    "  print(m_score)\n",
    "  v_score = np.mean(m_score)\n",
    "  print(v_score)\n",
    "\n",
    "  return v_score"
   ]
  },
  {
   "cell_type": "code",
   "execution_count": 0,
   "metadata": {
    "colab": {},
    "colab_type": "code",
    "id": "TLkMdFoNsRMk"
   },
   "outputs": [],
   "source": [
    "def train(model, train_dataloader, validation_dataloader, optimizer, scheduler, tokenizer, max_epochs, save_path, device, val_freq = 10):\n",
    "  \n",
    "  bestpoint_dir = os.path.join(save_path)\n",
    "  os.makedirs(bestpoint_dir, exist_ok=True)\n",
    "  max_accuracy = 0\n",
    "\n",
    "  for epoch_i in range(0, max_epochs):\n",
    "    print(\"\")\n",
    "    print('======== Epoch {:} / {:} ========'.format(epoch_i + 1, max_epochs))\n",
    "    print('Training...')\n",
    "\n",
    "    # Reset the total loss for this epoch.\n",
    "    total_loss = 0\n",
    "    model.train()\n",
    "\n",
    "    # For each batch of training data...\n",
    "    for step, batch in enumerate(train_dataloader):    \n",
    "\n",
    "        print(\"batch\",step,\"out of\",len(train_dataloader))\n",
    "        b_input_ids = batch[0].to(device)\n",
    "        b_input_mask = batch[3].to(device)\n",
    "        b_token_starts = batch[1].to(device)\n",
    "        b_labels = batch[2].to(device)\n",
    "        b_sent_length = batch[4]\n",
    "\n",
    "        model.zero_grad()   \n",
    "        model.train()     \n",
    "\n",
    "        output = model(b_input_ids, b_input_mask, b_labels, b_token_starts,b_sent_length)\n",
    "        loss = output[0]\n",
    "\n",
    "        total_loss += loss.item()\n",
    "\n",
    "        # Perform a backward pass to calculate the gradients.\n",
    "        loss.backward()\n",
    "        torch.nn.utils.clip_grad_norm_(model.parameters(), 1.0)\n",
    "        optimizer.step()\n",
    "\n",
    "        # Update the learning rate.\n",
    "        scheduler.step()\n",
    "\n",
    "        if step % 10 == 0:\n",
    "          accuracy = validation(model, validation_dataloader)\n",
    "          # if(accuracy > max_accuracy):\n",
    "          #   max_accuracy = accuracy\n",
    "          #   model.save_pretrained(bestpoint_dir)  \n",
    "          #   print(\"Saving model bestpoint to \", bestpoint_dir)\n",
    "\n",
    "    # Calculate the average loss over the training data.\n",
    "    avg_train_loss = total_loss / len(train_dataloader)            \n",
    "    \n",
    "    print(\"\")\n",
    "    print(\"  Average training loss: {0:.2f}\".format(avg_train_loss))\n",
    "  \n",
    "  print(\"\")\n",
    "  print(\"Training complete!\")"
   ]
  },
  {
   "cell_type": "code",
   "execution_count": 0,
   "metadata": {
    "colab": {},
    "colab_type": "code",
    "id": "KZIU8zV-mQt0"
   },
   "outputs": [],
   "source": [
    "class transformer_model(nn.Module):\n",
    "  def __init__(self, model_name, drop_prob = 0.3):\n",
    "    super(transformer_model, self).__init__()\n",
    "\n",
    "    config = BertConfig.from_pretrained(model_name, output_hidden_states=True)\n",
    "    self.bert = BertForMaskedLM.from_pretrained(model_name, config = config)\n",
    "    \n",
    "    # the commented lines freezes layers of the model\n",
    "    # cnt=0\n",
    "    # for child in bert.bert.children():\n",
    "    #   cnt = cnt + 1\n",
    "    #   if cnt<=23:\n",
    "    #     for param in child.parameters():\n",
    "    #       param.requires_grad = False\n",
    "\n",
    "    bert_dim = 25*1024\n",
    "    hidden_dim1 = 950\n",
    "    hidden_dim2 = 40\n",
    "    final_size = 1\n",
    "\n",
    "    self.fc1 = nn.Linear(bert_dim, hidden_dim1)\n",
    "    self.fc2 = nn.Linear(hidden_dim1, hidden_dim2)\n",
    "    self.fc3 = nn.Linear(hidden_dim2, final_size)\n",
    "    self.dropout = nn.Dropout(p=drop_prob)\n",
    "\n",
    "  def avg(self, a, st, end):\n",
    "    k = a\n",
    "    lis = []\n",
    "    for i in range(st,end):\n",
    "      lis.append(a[i])\n",
    "    x = torch.mean(torch.stack(lis),dim=0)\n",
    "    return x\n",
    "\n",
    "  def save_pretrained(self, output_dir):\n",
    "    self.bert.save_pretrained(output_dir)\n",
    "    #please save the fc layers\n",
    "           \n",
    "  def forward(self, bert_ids, bert_mask, labels = None, bert_token_starts = None,lm_lengths = None):\n",
    "    \n",
    "    batch_size = bert_ids.size()[0]\n",
    "    pad_size = bert_ids.size()[1]\n",
    "    # print(\"batch size\",batch_size,\"\\t\\tpad_size\",pad_size)\n",
    "\n",
    "    output = self.bert(bert_ids, attention_mask = bert_mask)\n",
    "\n",
    "    bert_out = output[1][0]\n",
    "    for layers in range(1,25,1):\n",
    "      bert_out = torch.cat((bert_out, output[1][layers]), dim=2)\n",
    "    \n",
    "    pred_logits = torch.relu(self.fc1(self.dropout(bert_out)))\n",
    "    pred_logits = torch.relu(self.fc2(self.dropout(pred_logits)))\n",
    "    pred_logits = torch.sigmoid(self.fc3(self.dropout(pred_logits)))\n",
    "    pred_logits = torch.squeeze(pred_logits,2)\n",
    "\n",
    "    pred_labels = labels.clone()\n",
    "\n",
    "    for b in range(batch_size):\n",
    "      for w in range(pad_size):\n",
    "        if(bert_token_starts[b][w]!=0):\n",
    "          if(bert_token_starts[b][w]>=pad_size):\n",
    "            print(bert_token_starts[b])\n",
    "          else:\n",
    "            st = bert_token_starts[b][w]\n",
    "            end = bert_token_starts[b][w+1]\n",
    "            if(end==0):\n",
    "              end = st+1\n",
    "              while(bert_mask[b][end]!=0):\n",
    "                end = end+1\n",
    "            # pred_labels[b][w] = self.avg(pred_logits[b],st,end)\n",
    "            pred_labels[b][w] = pred_logits[b][bert_token_starts[b][w]]\n",
    "\n",
    "    lm_lengths, lm_sort_ind = lm_lengths.sort(dim=0, descending=True)\n",
    "    scores = labels[lm_sort_ind]\n",
    "    targets = pred_labels[lm_sort_ind]\n",
    "    scores = pack_padded_sequence(scores, lm_lengths, batch_first=True).data\n",
    "    targets = pack_padded_sequence(targets, lm_lengths, batch_first=True).data\n",
    "\n",
    "    # print(scores)\n",
    "    # print(targets)\n",
    "\n",
    "    loss_fn = nn.BCELoss().to(device) \n",
    "    loss = loss_fn(targets,scores)\n",
    "\n",
    "    return loss, pred_labels "
   ]
  },
  {
   "cell_type": "code",
   "execution_count": 0,
   "metadata": {
    "colab": {},
    "colab_type": "code",
    "id": "dyCLOk5srSvr"
   },
   "outputs": [],
   "source": [
    "model = transformer_model('bert-large-cased').to(device)"
   ]
  },
  {
   "cell_type": "code",
   "execution_count": 0,
   "metadata": {
    "colab": {},
    "colab_type": "code",
    "id": "E_Ob6wRjr3rW"
   },
   "outputs": [],
   "source": [
    "optimizer = AdamW(model.parameters(), lr=2e-5, eps = 1e-8)\n",
    "\n",
    "epochs = 30\n",
    "total_steps = len(train_dataloader) * epochs\n",
    "\n",
    "# Create the learning rate scheduler.\n",
    "scheduler = get_linear_schedule_with_warmup(optimizer, \n",
    "                                            num_warmup_steps = 0, # Default value in run_glue.py\n",
    "                                            num_training_steps = total_steps)"
   ]
  },
  {
   "cell_type": "code",
   "execution_count": 0,
   "metadata": {
    "colab": {},
    "colab_type": "code",
    "id": "gB-7PRyzsZiU"
   },
   "outputs": [],
   "source": [
    "save_path = 'drive/My Drive/datasets/bert_final_model_1/'\n",
    "train(model, train_dataloader, validation_dataloader, optimizer, scheduler, tokenizer, epochs, save_path, device)"
   ]
  },
  {
   "cell_type": "code",
   "execution_count": 0,
   "metadata": {
    "colab": {},
    "colab_type": "code",
    "id": "PA2Av2i_5uNl"
   },
   "outputs": [],
   "source": []
  }
 ],
 "metadata": {
  "accelerator": "GPU",
  "colab": {
   "authorship_tag": "ABX9TyP8cpgURITv85sxTf0rUz/j",
   "include_colab_link": true,
   "name": "bert_model_save.ipynb",
   "provenance": []
  },
  "kernelspec": {
   "display_name": "Python 3",
   "language": "python",
   "name": "python3"
  },
  "language_info": {
   "codemirror_mode": {
    "name": "ipython",
    "version": 3
   },
   "file_extension": ".py",
   "mimetype": "text/x-python",
   "name": "python",
   "nbconvert_exporter": "python",
   "pygments_lexer": "ipython3",
   "version": "3.6.6"
  }
 },
 "nbformat": 4,
 "nbformat_minor": 1
}
